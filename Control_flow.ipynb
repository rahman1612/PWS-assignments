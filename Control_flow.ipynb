{
 "cells": [
  {
   "cell_type": "markdown",
   "id": "104ad0d7-dae6-4c85-b74a-f4173dad872e",
   "metadata": {},
   "source": [
    "Here are the solutions to the basic if-else statements:\n",
    "\n",
    "Checking if a given number is positive or negative:"
   ]
  },
  {
   "cell_type": "markdown",
   "id": "1c7439d0-a1f8-4f9f-a80b-88c2faaf95a8",
   "metadata": {},
   "source": [
    "num = float(input(\"Enter a number: \"))\n",
    "\n",
    "if num > 0:\n",
    "    print(\"Positive number\")\n",
    "elif num < 0:\n",
    "    print(\"Negative number\")\n",
    "else:\n",
    "    print(\"Zero\")\n"
   ]
  },
  {
   "cell_type": "markdown",
   "id": "22ec1949-6a3e-4385-a7a9-1c51a1695f87",
   "metadata": {},
   "source": [
    "Determining if a person is eligible to vote based on their age:"
   ]
  },
  {
   "cell_type": "code",
   "execution_count": null,
   "id": "41fa001e-2fe4-4a6c-a2f6-988c8f6f56bd",
   "metadata": {},
   "outputs": [
    {
     "name": "stdin",
     "output_type": "stream",
     "text": [
      "Enter your age:  12\n"
     ]
    },
    {
     "name": "stdout",
     "output_type": "stream",
     "text": [
      "You are not eligible to vote.\n"
     ]
    }
   ],
   "source": [
    "age = int(input(\"Enter your age: \"))\n",
    "\n",
    "if age >= 18:\n",
    "    print(\"You are eligible to vote.\")\n",
    "else:\n",
    "    print(\"You are not eligible to vote.\")\n"
   ]
  },
  {
   "cell_type": "markdown",
   "id": "53da4268-ebeb-4b22-8a9e-fd4b990544d8",
   "metadata": {},
   "source": [
    "Finding the maximum of two numbers using if-else statements:"
   ]
  },
  {
   "cell_type": "code",
   "execution_count": 5,
   "id": "2664d30a-089a-4e56-b7f1-3364ffe5a568",
   "metadata": {},
   "outputs": [
    {
     "name": "stdin",
     "output_type": "stream",
     "text": [
      "Enter first number:  1\n",
      "Enter second number:  2\n"
     ]
    },
    {
     "name": "stdout",
     "output_type": "stream",
     "text": [
      "Maximum number is: 2.0\n"
     ]
    }
   ],
   "source": [
    "num1 = float(input(\"Enter first number: \"))\n",
    "num2 = float(input(\"Enter second number: \"))\n",
    "\n",
    "if num1 > num2:\n",
    "    print(\"Maximum number is:\", num1)\n",
    "else:\n",
    "    print(\"Maximum number is:\", num2)\n"
   ]
  },
  {
   "cell_type": "markdown",
   "id": "ee77686c-4f7a-4834-947a-2d99106beea8",
   "metadata": {},
   "source": [
    "Classifying a given year as a leap year or not:"
   ]
  },
  {
   "cell_type": "code",
   "execution_count": null,
   "id": "6be9ff60-eb47-4c82-81fe-338987bbd12e",
   "metadata": {},
   "outputs": [
    {
     "name": "stdin",
     "output_type": "stream",
     "text": [
      "Enter a year:  2000\n"
     ]
    },
    {
     "name": "stdout",
     "output_type": "stream",
     "text": [
      "2000 is a leap year.\n"
     ]
    }
   ],
   "source": [
    "year = int(input(\"Enter a year: \"))\n",
    "\n",
    "if (year % 4 == 0 and year % 100 != 0) or (year % 400 == 0):\n",
    "    print(year, \"is a leap year.\")\n",
    "else:\n",
    "    print(year, \"is not a leap year.\")\n",
    "\n",
    "    "
   ]
  },
  {
   "cell_type": "markdown",
   "id": "ad87035c-186c-438e-a244-09707dbfdfd0",
   "metadata": {},
   "source": [
    "Checking whether a character is a vowel or a consonant:"
   ]
  },
  {
   "cell_type": "code",
   "execution_count": 7,
   "id": "d7353a53-88c8-43e5-9129-d22c562c62cd",
   "metadata": {},
   "outputs": [
    {
     "name": "stdin",
     "output_type": "stream",
     "text": [
      "Enter a character:  gbfg\n"
     ]
    },
    {
     "name": "stdout",
     "output_type": "stream",
     "text": [
      "Consonant\n"
     ]
    }
   ],
   "source": [
    "char = input(\"Enter a character: \")\n",
    "\n",
    "if char.lower() in 'aeiou':\n",
    "    print(\"Vowel\")\n",
    "else:\n",
    "    print(\"Consonant\")\n"
   ]
  },
  {
   "cell_type": "markdown",
   "id": "2933bfcd-f33e-4317-b246-cee6ba29224e",
   "metadata": {},
   "source": [
    "Determining whether a given number is even or odd:"
   ]
  },
  {
   "cell_type": "markdown",
   "id": "24061bee-0689-4eb0-9a27-68a0b7a8cdbf",
   "metadata": {},
   "source": [
    "num = int(input(\"Enter a number: \"))\n",
    "\n",
    "if num % 2 == 0:\n",
    "    print(\"Even number\")\n",
    "else:\n",
    "    print(\"Odd number\")\n"
   ]
  },
  {
   "cell_type": "markdown",
   "id": "af0df9df-1422-4c47-92cc-0228885eb179",
   "metadata": {},
   "source": [
    "Calculating the absolute value of a number without using the abs() function:"
   ]
  },
  {
   "cell_type": "code",
   "execution_count": null,
   "id": "731cd7f0-f40d-407f-acd0-ddb05006d42f",
   "metadata": {},
   "outputs": [
    {
     "name": "stdin",
     "output_type": "stream",
     "text": [
      "Enter a number:  4\n"
     ]
    },
    {
     "name": "stdout",
     "output_type": "stream",
     "text": [
      "Absolute value of 4.0 is: 4.0\n"
     ]
    }
   ],
   "source": [
    "num = float(input(\"Enter a number: \"))\n",
    "\n",
    "if num < 0:\n",
    "    abs_value = -num\n",
    "else:\n",
    "    abs_value = num\n",
    "\n",
    "print(\"Absolute value of\", num, \"is:\", abs_value)\n",
    "\n"
   ]
  },
  {
   "cell_type": "markdown",
   "id": "c5f9f12a-6060-4e99-b8f4-642d1823d882",
   "metadata": {},
   "source": [
    "Determining the largest of three given numbers using if-else statements:"
   ]
  },
  {
   "cell_type": "code",
   "execution_count": 10,
   "id": "aa28f5ad-703f-4299-9a85-14503d332e3f",
   "metadata": {},
   "outputs": [
    {
     "name": "stdin",
     "output_type": "stream",
     "text": [
      "Enter first number:  4\n",
      "Enter second number:  5\n",
      "Enter third number:  2\n"
     ]
    },
    {
     "name": "stdout",
     "output_type": "stream",
     "text": [
      "Largest number is: 5.0\n"
     ]
    }
   ],
   "source": [
    "num1 = float(input(\"Enter first number: \"))\n",
    "num2 = float(input(\"Enter second number: \"))\n",
    "num3 = float(input(\"Enter third number: \"))\n",
    "\n",
    "if num1 >= num2 and num1 >= num3:\n",
    "    print(\"Largest number is:\", num1)\n",
    "elif num2 >= num1 and num2 >= num3:\n",
    "    print(\"Largest number is:\", num2)\n",
    "else:\n",
    "    print(\"Largest number is:\", num3)\n"
   ]
  },
  {
   "cell_type": "markdown",
   "id": "afac05c5-0bfc-425c-a0a7-c84c37a8a316",
   "metadata": {},
   "source": [
    "Checking if a given string is a palindrome:"
   ]
  },
  {
   "cell_type": "code",
   "execution_count": 11,
   "id": "088771fb-535e-47c2-b983-e2a5694caba0",
   "metadata": {},
   "outputs": [
    {
     "name": "stdin",
     "output_type": "stream",
     "text": [
      "Enter a string:  fghf\n"
     ]
    },
    {
     "name": "stdout",
     "output_type": "stream",
     "text": [
      "Not a palindrome\n"
     ]
    }
   ],
   "source": [
    "string = input(\"Enter a string: \")\n",
    "\n",
    "if string == string[::-1]:\n",
    "    print(\"Palindrome\")\n",
    "else:\n",
    "    print(\"Not a palindrome\")\n"
   ]
  },
  {
   "cell_type": "markdown",
   "id": "60db02ff-7f6b-497f-a6f0-71a1826f9e7d",
   "metadata": {},
   "source": [
    "Calculating the grade based on a student's score:"
   ]
  },
  {
   "cell_type": "code",
   "execution_count": 12,
   "id": "90cceef9-bc74-4865-b270-89b50b93d33b",
   "metadata": {},
   "outputs": [
    {
     "name": "stdin",
     "output_type": "stream",
     "text": [
      "Enter student's score:  4\n"
     ]
    },
    {
     "name": "stdout",
     "output_type": "stream",
     "text": [
      "Student's grade: F\n"
     ]
    }
   ],
   "source": [
    "score = float(input(\"Enter student's score: \"))\n",
    "\n",
    "if score >= 90:\n",
    "    grade = 'A'\n",
    "elif score >= 80:\n",
    "    grade = 'B'\n",
    "elif score >= 70:\n",
    "    grade = 'C'\n",
    "elif score >= 60:\n",
    "    grade = 'D'\n",
    "else:\n",
    "    grade = 'F'\n",
    "\n",
    "print(\"Student's grade:\", grade)\n"
   ]
  },
  {
   "cell_type": "markdown",
   "id": "430e3826-2bbd-4678-a88f-a93eba25a2ec",
   "metadata": {},
   "source": [
    "Nested If else:\n",
    "\n",
    "Finding the largest among three numbers using nested if-else statements:"
   ]
  },
  {
   "cell_type": "code",
   "execution_count": 13,
   "id": "a35bd11f-e29d-4f86-bb44-d45cefb787b6",
   "metadata": {},
   "outputs": [
    {
     "name": "stdin",
     "output_type": "stream",
     "text": [
      "Enter first number:  1\n",
      "Enter second number:  2\n",
      "Enter third number:  3\n"
     ]
    },
    {
     "name": "stdout",
     "output_type": "stream",
     "text": [
      "Largest number is: 3.0\n"
     ]
    }
   ],
   "source": [
    "num1 = float(input(\"Enter first number: \"))\n",
    "num2 = float(input(\"Enter second number: \"))\n",
    "num3 = float(input(\"Enter third number: \"))\n",
    "\n",
    "if num1 >= num2:\n",
    "    if num1 >= num3:\n",
    "        print(\"Largest number is:\", num1)\n",
    "    else:\n",
    "        print(\"Largest number is:\", num3)\n",
    "else:\n",
    "    if num2 >= num3:\n",
    "        print(\"Largest number is:\", num2)\n",
    "    else:\n",
    "        print(\"Largest number is:\", num3)\n"
   ]
  },
  {
   "cell_type": "markdown",
   "id": "106285b4-d021-4057-846c-de67f81e0935",
   "metadata": {},
   "source": [
    "Determining if a triangle is equilateral, isosceles, or scalene:"
   ]
  },
  {
   "cell_type": "code",
   "execution_count": 14,
   "id": "97b47aa7-eb93-4386-8376-da22a8d56b79",
   "metadata": {},
   "outputs": [
    {
     "name": "stdin",
     "output_type": "stream",
     "text": [
      "Enter length of first side:  2\n",
      "Enter length of second side:  6\n",
      "Enter length of third side:  4\n"
     ]
    },
    {
     "name": "stdout",
     "output_type": "stream",
     "text": [
      "Scalene triangle\n"
     ]
    }
   ],
   "source": [
    "side1 = float(input(\"Enter length of first side: \"))\n",
    "side2 = float(input(\"Enter length of second side: \"))\n",
    "side3 = float(input(\"Enter length of third side: \"))\n",
    "\n",
    "if side1 == side2 == side3:\n",
    "    print(\"Equilateral triangle\")\n",
    "elif side1 == side2 or side1 == side3 or side2 == side3:\n",
    "    print(\"Isosceles triangle\")\n",
    "else:\n",
    "    print(\"Scalene triangle\")\n"
   ]
  },
  {
   "cell_type": "markdown",
   "id": "4d55061c-a539-44d0-be9c-452eb3b66623",
   "metadata": {},
   "source": [
    "Checking if a year is a leap year and also if it is a century year:"
   ]
  },
  {
   "cell_type": "code",
   "execution_count": 15,
   "id": "5eb30fff-bbb4-452d-a393-88c2fd2682ea",
   "metadata": {},
   "outputs": [
    {
     "name": "stdin",
     "output_type": "stream",
     "text": [
      "Enter a year:  2551\n"
     ]
    },
    {
     "name": "stdout",
     "output_type": "stream",
     "text": [
      "2551 is neither a leap year nor a century year.\n"
     ]
    }
   ],
   "source": [
    "year = int(input(\"Enter a year: \"))\n",
    "\n",
    "if year % 400 == 0:\n",
    "    print(year, \"is a leap year and a century year.\")\n",
    "elif year % 100 == 0:\n",
    "    print(year, \"is not a leap year but a century year.\")\n",
    "elif year % 4 == 0:\n",
    "    print(year, \"is a leap year but not a century year.\")\n",
    "else:\n",
    "    print(year, \"is neither a leap year nor a century year.\")\n"
   ]
  },
  {
   "cell_type": "markdown",
   "id": "85dbd43f-ba17-4065-8f91-e5e883373631",
   "metadata": {},
   "source": [
    "Determining if a number is positive, negative, or zero:"
   ]
  },
  {
   "cell_type": "code",
   "execution_count": null,
   "id": "20707d7f-9541-4f2f-aeb5-42656a68cb7f",
   "metadata": {},
   "outputs": [
    {
     "name": "stdin",
     "output_type": "stream",
     "text": [
      "Enter a number:  2\n"
     ]
    },
    {
     "name": "stdout",
     "output_type": "stream",
     "text": [
      "Positive number\n"
     ]
    }
   ],
   "source": [
    "num = float(input(\"Enter a number: \"))\n",
    "\n",
    "if num > 0:\n",
    "    print(\"Positive number\")\n",
    "elif num < 0:\n",
    "    print(\"Negative number\")\n",
    "else:\n",
    "    print(\"Zero\")\n"
   ]
  },
  {
   "cell_type": "markdown",
   "id": "ed892298-ae50-49eb-8b2a-d0ce36a2ff4b",
   "metadata": {},
   "source": [
    "Checking if a person is a teenager (between 13 and 19 years old):"
   ]
  },
  {
   "cell_type": "code",
   "execution_count": 17,
   "id": "15c10d53-a92d-419c-90fa-d70a98d383a5",
   "metadata": {},
   "outputs": [
    {
     "name": "stdin",
     "output_type": "stream",
     "text": [
      "Enter your age:  45\n"
     ]
    },
    {
     "name": "stdout",
     "output_type": "stream",
     "text": [
      "You are not a teenager.\n"
     ]
    }
   ],
   "source": [
    "age = int(input(\"Enter your age: \"))\n",
    "\n",
    "if 13 <= age <= 19:\n",
    "    print(\"You are a teenager.\")\n",
    "else:\n",
    "    print(\"You are not a teenager.\")\n"
   ]
  },
  {
   "cell_type": "markdown",
   "id": "aa541dc3-2b18-4106-8ba3-fc0845686a89",
   "metadata": {},
   "source": [
    "Determining the type of angle based on its measure (acute, obtuse, or right):"
   ]
  },
  {
   "cell_type": "code",
   "execution_count": 18,
   "id": "4e4b825b-f1f6-44e0-a52f-f68f10972cea",
   "metadata": {},
   "outputs": [
    {
     "name": "stdin",
     "output_type": "stream",
     "text": [
      "Enter the measure of the angle in degrees:  54\n"
     ]
    },
    {
     "name": "stdout",
     "output_type": "stream",
     "text": [
      "Acute angle\n"
     ]
    }
   ],
   "source": [
    "angle = float(input(\"Enter the measure of the angle in degrees: \"))\n",
    "\n",
    "if angle < 90:\n",
    "    print(\"Acute angle\")\n",
    "elif angle == 90:\n",
    "    print(\"Right angle\")\n",
    "else:\n",
    "    print(\"Obtuse angle\")\n"
   ]
  },
  {
   "cell_type": "markdown",
   "id": "78448a64-8609-485b-8960-7a3f9af67158",
   "metadata": {},
   "source": [
    "Calculating the roots of a quadratic equation:|"
   ]
  },
  {
   "cell_type": "code",
   "execution_count": 19,
   "id": "8371d3a6-d9d8-44c3-8ca7-903a5249aefe",
   "metadata": {},
   "outputs": [
    {
     "name": "stdin",
     "output_type": "stream",
     "text": [
      "Enter coefficient a:  5\n",
      "Enter coefficient b:  2\n",
      "Enter coefficient c:  6\n"
     ]
    },
    {
     "name": "stdout",
     "output_type": "stream",
     "text": [
      "Roots are complex: -0.2 + 1.0770329614269007 i and -0.2 - 1.0770329614269007 i\n"
     ]
    }
   ],
   "source": [
    "import math\n",
    "\n",
    "a = float(input(\"Enter coefficient a: \"))\n",
    "b = float(input(\"Enter coefficient b: \"))\n",
    "c = float(input(\"Enter coefficient c: \"))\n",
    "\n",
    "discriminant = b**2 - 4*a*c\n",
    "\n",
    "if discriminant > 0:\n",
    "    root1 = (-b + math.sqrt(discriminant)) / (2*a)\n",
    "    root2 = (-b - math.sqrt(discriminant)) / (2*a)\n",
    "    print(\"Roots are real and distinct:\", root1, \"and\", root2)\n",
    "elif discriminant == 0:\n",
    "    root = -b / (2*a)\n",
    "    print(\"Roots are real and equal:\", root)\n",
    "else:\n",
    "    real_part = -b / (2*a)\n",
    "    imaginary_part = math.sqrt(abs(discriminant)) / (2*a)\n",
    "    print(\"Roots are complex:\", real_part, \"+\", imaginary_part, \"i and\", real_part, \"-\", imaginary_part, \"i\")\n"
   ]
  },
  {
   "cell_type": "markdown",
   "id": "4136a35f-2147-4952-b782-9d2a356ecbeb",
   "metadata": {},
   "source": [
    "Determining the day of the week based on a user-provided number (1 for Monday, 2 for Tuesday, etc.):"
   ]
  },
  {
   "cell_type": "code",
   "execution_count": 20,
   "id": "685a3bfa-d7b7-4305-8d03-fb970164cb07",
   "metadata": {},
   "outputs": [
    {
     "name": "stdin",
     "output_type": "stream",
     "text": [
      "Enter the day number (1 for Monday, 2 for Tuesday, etc.):  5\n"
     ]
    },
    {
     "name": "stdout",
     "output_type": "stream",
     "text": [
      "Friday\n"
     ]
    }
   ],
   "source": [
    "day_number = int(input(\"Enter the day number (1 for Monday, 2 for Tuesday, etc.): \"))\n",
    "\n",
    "if day_number == 1:\n",
    "    print(\"Monday\")\n",
    "elif day_number == 2:\n",
    "    print(\"Tuesday\")\n",
    "elif day_number == 3:\n",
    "    print(\"Wednesday\")\n",
    "elif day_number == 4:\n",
    "    print(\"Thursday\")\n",
    "elif day_number == 5:\n",
    "    print(\"Friday\")\n",
    "elif day_number == 6:\n",
    "    print(\"Saturday\")\n",
    "elif day_number == 7:\n",
    "    print(\"Sunday\")\n",
    "else:\n",
    "    print(\"Invalid input\")\n"
   ]
  },
  {
   "cell_type": "markdown",
   "id": "39fba8cb-12e8-42ba-aaac-dedf58066601",
   "metadata": {},
   "source": [
    "Checking if a year is a leap year and also if it is evenly divisible by 400:"
   ]
  },
  {
   "cell_type": "code",
   "execution_count": 21,
   "id": "ef04a19e-981e-48c9-94bc-99c58d4fe83e",
   "metadata": {},
   "outputs": [
    {
     "name": "stdin",
     "output_type": "stream",
     "text": [
      "Enter a year:  2554\n"
     ]
    },
    {
     "name": "stdout",
     "output_type": "stream",
     "text": [
      "2554 is not a leap year.\n"
     ]
    }
   ],
   "source": [
    "year = int(input(\"Enter a year: \"))\n",
    "\n",
    "if year % 400 == 0:\n",
    "    print(year, \"is a leap year and also evenly divisible by 400.\")\n",
    "elif year % 4 == 0 and year % 100 != 0:\n",
    "    print(year, \"is a leap year but not evenly divisible by 400.\")\n",
    "else:\n",
    "    print(year, \"is not a leap year.\")\n"
   ]
  },
  {
   "cell_type": "markdown",
   "id": "b3b3383c-8701-45fc-ab22-e033976a0445",
   "metadata": {},
   "source": [
    "Determining if a given number is prime or not using nested if-else statements:"
   ]
  },
  {
   "cell_type": "code",
   "execution_count": 22,
   "id": "65a8b27a-dd9d-49ec-bde6-c0c6aa7c0daa",
   "metadata": {},
   "outputs": [
    {
     "name": "stdin",
     "output_type": "stream",
     "text": [
      "Enter a number:  54\n"
     ]
    },
    {
     "name": "stdout",
     "output_type": "stream",
     "text": [
      "54 is not a prime number.\n"
     ]
    }
   ],
   "source": [
    "num = int(input(\"Enter a number: \"))\n",
    "\n",
    "if num > 1:\n",
    "    for i in range(2, int(num**0.5) + 1):\n",
    "        if (num % i) == 0:\n",
    "            print(num, \"is not a prime number.\")\n",
    "            break\n",
    "    else:\n",
    "        print(num, \"is a prime number.\")\n",
    "else:\n",
    "    print(num, \"is not a prime number.\")\n"
   ]
  },
  {
   "cell_type": "markdown",
   "id": "54a86059-44a9-4c8c-b1dd-4efd06c119fb",
   "metadata": {},
   "source": [
    "elif statements:\n",
    "\n",
    "Assigning grades based on different ranges of scores using elif statements:"
   ]
  },
  {
   "cell_type": "code",
   "execution_count": 23,
   "id": "23ea3d2d-9c29-45c2-ac65-70c4bb1465c7",
   "metadata": {},
   "outputs": [
    {
     "name": "stdin",
     "output_type": "stream",
     "text": [
      "Enter student's score:  54\n"
     ]
    },
    {
     "name": "stdout",
     "output_type": "stream",
     "text": [
      "Student's grade: F\n"
     ]
    }
   ],
   "source": [
    "score = float(input(\"Enter student's score: \"))\n",
    "\n",
    "if score >= 90:\n",
    "    grade = 'A'\n",
    "elif score >= 80:\n",
    "    grade = 'B'\n",
    "elif score >= 70:\n",
    "    grade = 'C'\n",
    "elif score >= 60:\n",
    "    grade = 'D'\n",
    "else:\n",
    "    grade = 'F'\n",
    "\n",
    "print(\"Student's grade:\", grade)\n"
   ]
  },
  {
   "cell_type": "markdown",
   "id": "4505264d-fd78-48ca-8d46-f93bcd8a46ff",
   "metadata": {},
   "source": [
    "Determining the type of a triangle based on its angles:"
   ]
  },
  {
   "cell_type": "code",
   "execution_count": 24,
   "id": "d92f5618-12f3-4174-9bd8-72cd2ff3c9e7",
   "metadata": {},
   "outputs": [
    {
     "name": "stdin",
     "output_type": "stream",
     "text": [
      "Enter the first angle:  55\n",
      "Enter the second angle:  25\n",
      "Enter the third angle:  55\n"
     ]
    },
    {
     "name": "stdout",
     "output_type": "stream",
     "text": [
      "Invalid triangle\n"
     ]
    }
   ],
   "source": [
    "angle1 = int(input(\"Enter the first angle: \"))\n",
    "angle2 = int(input(\"Enter the second angle: \"))\n",
    "angle3 = int(input(\"Enter the third angle: \"))\n",
    "\n",
    "if angle1 + angle2 + angle3 == 180:\n",
    "    if angle1 == angle2 == angle3:\n",
    "        print(\"Equilateral triangle\")\n",
    "    elif angle1 == 90 or angle2 == 90 or angle3 == 90:\n",
    "        print(\"Right-angled triangle\")\n",
    "    elif angle1 > 90 or angle2 > 90 or angle3 > 90:\n",
    "        print(\"Obtuse-angled triangle\")\n",
    "    else:\n",
    "        print(\"Acute-angled triangle\")\n",
    "else:\n",
    "    print(\"Invalid triangle\")\n"
   ]
  },
  {
   "cell_type": "markdown",
   "id": "46a61f54-4310-45bc-a9be-3b4a7ae80cda",
   "metadata": {},
   "source": [
    "Categorizing a given person's BMI into underweight, normal, overweight, or obese using elif statements:"
   ]
  },
  {
   "cell_type": "code",
   "execution_count": 25,
   "id": "2256887e-bf3d-4f18-ab91-24ac1caf2f42",
   "metadata": {},
   "outputs": [
    {
     "name": "stdin",
     "output_type": "stream",
     "text": [
      "Enter your weight in kilograms:  54\n",
      "Enter your height in meters:  26\n"
     ]
    },
    {
     "name": "stdout",
     "output_type": "stream",
     "text": [
      "Your BMI category is: underweight\n"
     ]
    }
   ],
   "source": [
    "weight = float(input(\"Enter your weight in kilograms: \"))\n",
    "height = float(input(\"Enter your height in meters: \"))\n",
    "\n",
    "bmi = weight / (height ** 2)\n",
    "\n",
    "if bmi < 18.5:\n",
    "    category = \"underweight\"\n",
    "elif bmi < 25:\n",
    "    category = \"normal weight\"\n",
    "elif bmi < 30:\n",
    "    category = \"overweight\"\n",
    "else:\n",
    "    category = \"obese\"\n",
    "\n",
    "print(\"Your BMI category is:\", category)\n"
   ]
  },
  {
   "cell_type": "markdown",
   "id": "1a5b4b6c-8a72-40ee-83ee-49763517abde",
   "metadata": {},
   "source": [
    "Determining whether a given number is positive, negative, or zero using elif statements:"
   ]
  },
  {
   "cell_type": "code",
   "execution_count": 26,
   "id": "10c1b89c-cd7f-4091-9471-efdd33343e48",
   "metadata": {},
   "outputs": [
    {
     "name": "stdin",
     "output_type": "stream",
     "text": [
      "Enter a number:  5\n"
     ]
    },
    {
     "name": "stdout",
     "output_type": "stream",
     "text": [
      "Positive number\n"
     ]
    }
   ],
   "source": [
    "num = float(input(\"Enter a number: \"))\n",
    "\n",
    "if num > 0:\n",
    "    print(\"Positive number\")\n",
    "elif num < 0:\n",
    "    print(\"Negative number\")\n",
    "else:\n",
    "    print(\"Zero\")\n"
   ]
  },
  {
   "cell_type": "markdown",
   "id": "cb0989a1-83dd-4599-948d-5ea33ab7a6c6",
   "metadata": {},
   "source": [
    "Determining the type of a character (uppercase, lowercase, or special) using elif statements:"
   ]
  },
  {
   "cell_type": "code",
   "execution_count": 27,
   "id": "cedcd937-28ae-4926-a9ba-aa519effff01",
   "metadata": {},
   "outputs": [
    {
     "name": "stdin",
     "output_type": "stream",
     "text": [
      "Enter a character:  fcv\n"
     ]
    },
    {
     "name": "stdout",
     "output_type": "stream",
     "text": [
      "Lowercase letter\n"
     ]
    }
   ],
   "source": [
    "char = input(\"Enter a character: \")\n",
    "\n",
    "if char.isalpha():\n",
    "    if char.isupper():\n",
    "        print(\"Uppercase letter\")\n",
    "    else:\n",
    "        print(\"Lowercase letter\")\n",
    "else:\n",
    "    print(\"Special character\")\n"
   ]
  },
  {
   "cell_type": "markdown",
   "id": "6902b7d2-cb62-49d4-be4f-aae16d7bc09f",
   "metadata": {},
   "source": [
    "Calculating the discounted price based on different purchase amounts using elif statements:"
   ]
  },
  {
   "cell_type": "code",
   "execution_count": 28,
   "id": "7922dd81-f507-4d84-8889-cf5b96a3f636",
   "metadata": {},
   "outputs": [
    {
     "name": "stdin",
     "output_type": "stream",
     "text": [
      "Enter the purchase amount:  52\n"
     ]
    },
    {
     "name": "stdout",
     "output_type": "stream",
     "text": [
      "Discounted amount: 52.0\n"
     ]
    }
   ],
   "source": [
    "amount = float(input(\"Enter the purchase amount: \"))\n",
    "\n",
    "if amount >= 1000:\n",
    "    discount = 0.1\n",
    "elif amount >= 500:\n",
    "    discount = 0.05\n",
    "else:\n",
    "    discount = 0\n",
    "\n",
    "discounted_amount = amount - (amount * discount)\n",
    "\n",
    "print(\"Discounted amount:\", discounted_amount)\n"
   ]
  },
  {
   "cell_type": "markdown",
   "id": "00f8a13a-2c0d-46cf-ad7f-dacdcde2f8f4",
   "metadata": {},
   "source": [
    "Calculating the electricity bill based on different consumption slabs using elif statements:"
   ]
  },
  {
   "cell_type": "code",
   "execution_count": 29,
   "id": "42097469-b17b-4cb2-b044-8b24440e554c",
   "metadata": {},
   "outputs": [
    {
     "name": "stdin",
     "output_type": "stream",
     "text": [
      "Enter the number of units consumed:  45\n"
     ]
    },
    {
     "name": "stdout",
     "output_type": "stream",
     "text": [
      "Electricity bill: 22.5\n"
     ]
    }
   ],
   "source": [
    "units = float(input(\"Enter the number of units consumed: \"))\n",
    "\n",
    "if units <= 50:\n",
    "    bill = units * 0.50\n",
    "elif units <= 150:\n",
    "    bill = 25 + (units - 50) * 0.75\n",
    "elif units <= 250:\n",
    "    bill = 100 + (units - 150) * 1.20\n",
    "else:\n",
    "    bill = 220 + (units - 250) * 1.50\n",
    "\n",
    "print(\"Electricity bill:\", bill)\n"
   ]
  },
  {
   "cell_type": "markdown",
   "id": "c6dfdac3-8515-4e12-9ae4-e3e688cbe767",
   "metadata": {},
   "source": [
    "Determining the type of quadrilateral based on its angles and sides using elif statements:"
   ]
  },
  {
   "cell_type": "code",
   "execution_count": 30,
   "id": "f4aa00b0-00b0-482b-960d-66e58d6e5625",
   "metadata": {},
   "outputs": [
    {
     "name": "stdin",
     "output_type": "stream",
     "text": [
      "Enter the first angle:  53\n",
      "Enter the second angle:  88\n",
      "Enter the third angle:  77\n",
      "Enter the fourth angle:  55\n"
     ]
    },
    {
     "name": "stdout",
     "output_type": "stream",
     "text": [
      "Quadrilateral is a general quadrilateral\n"
     ]
    }
   ],
   "source": [
    "angle1 = int(input(\"Enter the first angle: \"))\n",
    "angle2 = int(input(\"Enter the second angle: \"))\n",
    "angle3 = int(input(\"Enter the third angle: \"))\n",
    "angle4 = int(input(\"Enter the fourth angle: \"))\n",
    "\n",
    "if angle1 == angle2 == angle3 == angle4 == 90:\n",
    "    print(\"Quadrilateral is a rectangle\")\n",
    "elif angle1 == angle2 == angle3 == angle4:\n",
    "    print(\"Quadrilateral is a rhombus\")\n",
    "elif angle1 == angle3 and angle2 == angle4:\n",
    "    print(\"Quadrilateral is a parallelogram\")\n",
    "else:\n",
    "    print(\"Quadrilateral is a general quadrilateral\")\n"
   ]
  },
  {
   "cell_type": "markdown",
   "id": "e7e94e87-010c-480b-bb2b-7b733dc23a9c",
   "metadata": {},
   "source": [
    "Determining the season based on a user-provided month using elif statements:"
   ]
  },
  {
   "cell_type": "code",
   "execution_count": 31,
   "id": "32a05697-c1bc-43de-a438-02c5399effbd",
   "metadata": {},
   "outputs": [
    {
     "name": "stdin",
     "output_type": "stream",
     "text": [
      "Enter the month number (1-12):  5\n"
     ]
    },
    {
     "name": "stdout",
     "output_type": "stream",
     "text": [
      "Season: Spring\n"
     ]
    }
   ],
   "source": [
    "month = int(input(\"Enter the month number (1-12): \"))\n",
    "\n",
    "if month in [3, 4, 5]:\n",
    "    season = \"Spring\"\n",
    "elif month in [6, 7, 8]:\n",
    "    season = \"Summer\"\n",
    "elif month in [9, 10, 11]:\n",
    "    season = \"Autumn\"\n",
    "else:\n",
    "    season = \"Winter\"\n",
    "\n",
    "print(\"Season:\", season)\n"
   ]
  },
  {
   "cell_type": "markdown",
   "id": "29765847-8c1c-49a6-9827-dc6825f0c381",
   "metadata": {},
   "source": [
    "Determining the type of a year (leap or common) and month (30 or 31 days) using elif statements:"
   ]
  },
  {
   "cell_type": "code",
   "execution_count": 32,
   "id": "1316bd86-3dcc-4dd8-ae94-857eec26946c",
   "metadata": {},
   "outputs": [
    {
     "name": "stdin",
     "output_type": "stream",
     "text": [
      "Enter a year:  2000\n",
      "Enter a month number (1-12):  2\n"
     ]
    },
    {
     "name": "stdout",
     "output_type": "stream",
     "text": [
      "Year type: Leap\n",
      "Days in the month: 29\n"
     ]
    }
   ],
   "source": [
    "year = int(input(\"Enter a year: \"))\n",
    "month = int(input(\"Enter a month number (1-12): \"))\n",
    "\n",
    "if (year % 400 == 0) or (year % 4 == 0 and year % 100 != 0):\n",
    "    leap_year = True\n",
    "else:\n",
    "    leap_year = False\n",
    "\n",
    "if month in [1, 3, 5, 7, 8, 10, 12]:\n",
    "    days = 31\n",
    "elif month == 2:\n",
    "    if leap_year:\n",
    "        days = 29\n",
    "    else:\n",
    "        days = 28\n",
    "else:\n",
    "    days = 30\n",
    "\n",
    "print(\"Year type:\", \"Leap\" if leap_year else \"Common\")\n",
    "print(\"Days in the month:\", days)\n"
   ]
  },
  {
   "cell_type": "code",
   "execution_count": null,
   "id": "ef133cb8-7f0c-45e3-acbb-50ada91ce6f4",
   "metadata": {},
   "outputs": [],
   "source": []
  }
 ],
 "metadata": {
  "kernelspec": {
   "display_name": "Python 3 (ipykernel)",
   "language": "python",
   "name": "python3"
  },
  "language_info": {
   "codemirror_mode": {
    "name": "ipython",
    "version": 3
   },
   "file_extension": ".py",
   "mimetype": "text/x-python",
   "name": "python",
   "nbconvert_exporter": "python",
   "pygments_lexer": "ipython3",
   "version": "3.10.8"
  }
 },
 "nbformat": 4,
 "nbformat_minor": 5
}
