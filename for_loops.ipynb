{
 "cells": [
  {
   "cell_type": "markdown",
   "id": "118347ca-ac37-4327-96d9-56786bbc5400",
   "metadata": {},
   "source": [
    "Simple:\n",
    "\n",
    "Printing numbers from 1 to 10 using a for loop:"
   ]
  },
  {
   "cell_type": "code",
   "execution_count": 1,
   "id": "89de34ef-ab45-49d9-806f-041943516c4d",
   "metadata": {},
   "outputs": [
    {
     "name": "stdout",
     "output_type": "stream",
     "text": [
      "1\n",
      "2\n",
      "3\n",
      "4\n",
      "5\n",
      "6\n",
      "7\n",
      "8\n",
      "9\n",
      "10\n"
     ]
    }
   ],
   "source": [
    "for i in range(1, 11):\n",
    "    print(i)\n",
    "\n",
    "    "
   ]
  },
  {
   "cell_type": "markdown",
   "id": "c1a655e1-f6c2-4771-b21c-8681a9a58961",
   "metadata": {},
   "source": [
    "Calculating the sum of all numbers in a list using a for loop:"
   ]
  },
  {
   "cell_type": "code",
   "execution_count": 2,
   "id": "c0875f04-85ff-4335-8ad6-d21641151b98",
   "metadata": {},
   "outputs": [
    {
     "name": "stdout",
     "output_type": "stream",
     "text": [
      "Sum of all numbers: 15\n"
     ]
    }
   ],
   "source": [
    "numbers = [1, 2, 3, 4, 5]\n",
    "total = 0\n",
    "\n",
    "for num in numbers:\n",
    "    total += num\n",
    "\n",
    "print(\"Sum of all numbers:\", total)\n"
   ]
  },
  {
   "cell_type": "markdown",
   "id": "e005dba4-9a68-4a80-858b-940af1a934c4",
   "metadata": {},
   "source": [
    "Printing the characters of a string in reverse order using a for loop:"
   ]
  },
  {
   "cell_type": "code",
   "execution_count": 3,
   "id": "672925d6-bcb9-42c8-92f1-a644ed8d9b7a",
   "metadata": {},
   "outputs": [
    {
     "name": "stdout",
     "output_type": "stream",
     "text": [
      "o\n",
      "l\n",
      "l\n",
      "e\n",
      "h\n"
     ]
    }
   ],
   "source": [
    "string = \"hello\"\n",
    "\n",
    "for char in reversed(string):\n",
    "    print(char)\n"
   ]
  },
  {
   "cell_type": "markdown",
   "id": "473c0703-34e5-4dab-9a6a-bd344dc3a170",
   "metadata": {},
   "source": [
    "Finding the factorial of a given number using a for loop:"
   ]
  },
  {
   "cell_type": "code",
   "execution_count": 4,
   "id": "f7c5639a-af79-46cf-9fe3-65bfc26f6e86",
   "metadata": {},
   "outputs": [
    {
     "name": "stdout",
     "output_type": "stream",
     "text": [
      "Factorial of 5 is: 120\n"
     ]
    }
   ],
   "source": [
    "num = 5\n",
    "factorial = 1\n",
    "\n",
    "for i in range(1, num + 1):\n",
    "    factorial *= i\n",
    "\n",
    "print(\"Factorial of\", num, \"is:\", factorial)\n"
   ]
  },
  {
   "cell_type": "markdown",
   "id": "ffc91eb9-aa72-4f21-9e34-b8446ee4dcf3",
   "metadata": {},
   "source": [
    "Printing the multiplication table of a given number using a for loop:"
   ]
  },
  {
   "cell_type": "code",
   "execution_count": 5,
   "id": "a1328839-cad4-4829-a1b6-485c654779aa",
   "metadata": {},
   "outputs": [
    {
     "name": "stdout",
     "output_type": "stream",
     "text": [
      "7 x 1 = 7\n",
      "7 x 2 = 14\n",
      "7 x 3 = 21\n",
      "7 x 4 = 28\n",
      "7 x 5 = 35\n",
      "7 x 6 = 42\n",
      "7 x 7 = 49\n",
      "7 x 8 = 56\n",
      "7 x 9 = 63\n",
      "7 x 10 = 70\n"
     ]
    }
   ],
   "source": [
    "num = 7\n",
    "\n",
    "for i in range(1, 11):\n",
    "    print(num, \"x\", i, \"=\", num * i)\n"
   ]
  },
  {
   "cell_type": "markdown",
   "id": "c1fcc7e7-e8ec-43ae-a569-35b375c11fbf",
   "metadata": {},
   "source": [
    "Counting the number of even and odd numbers in a list using a for loop:"
   ]
  },
  {
   "cell_type": "code",
   "execution_count": 6,
   "id": "252f0d14-af33-4387-925b-a8d0b91cff0a",
   "metadata": {},
   "outputs": [
    {
     "name": "stdout",
     "output_type": "stream",
     "text": [
      "Number of even numbers: 4\n",
      "Number of odd numbers: 5\n"
     ]
    }
   ],
   "source": [
    "numbers = [1, 2, 3, 4, 5, 6, 7, 8, 9]\n",
    "even_count = 0\n",
    "odd_count = 0\n",
    "\n",
    "for num in numbers:\n",
    "    if num % 2 == 0:\n",
    "        even_count += 1\n",
    "    else:\n",
    "        odd_count += 1\n",
    "\n",
    "print(\"Number of even numbers:\", even_count)\n",
    "print(\"Number of odd numbers:\", odd_count)\n"
   ]
  },
  {
   "cell_type": "markdown",
   "id": "23605533-2bd5-47b2-81f0-3f1b1bd50f5b",
   "metadata": {},
   "source": [
    "Printing the squares of numbers from 1 to 5 using a for loop:"
   ]
  },
  {
   "cell_type": "code",
   "execution_count": 8,
   "id": "9cea6cbf-d079-41bc-b01c-ad54615eaa6e",
   "metadata": {},
   "outputs": [
    {
     "name": "stdout",
     "output_type": "stream",
     "text": [
      "Square of 1 is: 1\n",
      "Square of 2 is: 4\n",
      "Square of 3 is: 9\n",
      "Square of 4 is: 16\n",
      "Square of 5 is: 25\n"
     ]
    }
   ],
   "source": [
    "for i in range(1, 6):\n",
    "    print(\"Square of\", i, \"is:\", i * i)\n"
   ]
  },
  {
   "cell_type": "markdown",
   "id": "4266e2af-f27d-455a-9f6c-94a2b7321103",
   "metadata": {},
   "source": [
    "Finding the length of a string without using the len() function:"
   ]
  },
  {
   "cell_type": "code",
   "execution_count": 9,
   "id": "3947e72f-d72a-4d8c-9969-effe604e3401",
   "metadata": {},
   "outputs": [
    {
     "name": "stdout",
     "output_type": "stream",
     "text": [
      "Length of the string: 5\n"
     ]
    }
   ],
   "source": [
    "string = \"hello\"\n",
    "length = 0\n",
    "\n",
    "for char in string:\n",
    "    length += 1\n",
    "\n",
    "print(\"Length of the string:\", length)\n"
   ]
  },
  {
   "cell_type": "markdown",
   "id": "956dd08f-7a38-49cc-89fb-f3e42a9be7ba",
   "metadata": {},
   "source": [
    "Calculating the average of a list of numbers using a for loop:"
   ]
  },
  {
   "cell_type": "code",
   "execution_count": 10,
   "id": "5c7ad8e7-27e3-4d16-a75a-e7cd14e0b329",
   "metadata": {},
   "outputs": [
    {
     "name": "stdout",
     "output_type": "stream",
     "text": [
      "Average of the numbers: 30.0\n"
     ]
    }
   ],
   "source": [
    "numbers = [10, 20, 30, 40, 50]\n",
    "total = 0\n",
    "\n",
    "for num in numbers:\n",
    "    total += num\n",
    "\n",
    "average = total / len(numbers)\n",
    "print(\"Average of the numbers:\", average)\n"
   ]
  },
  {
   "cell_type": "markdown",
   "id": "c952614e-86f1-42bd-b8e6-4291398cae2e",
   "metadata": {},
   "source": [
    "Printing the first n Fibonacci numbers using a for loop:"
   ]
  },
  {
   "cell_type": "code",
   "execution_count": 11,
   "id": "5ddf3de9-ac50-49d8-a189-02b6d6825782",
   "metadata": {},
   "outputs": [
    {
     "name": "stdout",
     "output_type": "stream",
     "text": [
      "First 10 Fibonacci numbers: [0, 1, 1, 2, 3, 5, 8, 13, 21, 34]\n"
     ]
    }
   ],
   "source": [
    "n = 10\n",
    "fibonacci_sequence = [0, 1]\n",
    "\n",
    "for i in range(2, n):\n",
    "    next_num = fibonacci_sequence[-1] + fibonacci_sequence[-2]\n",
    "    fibonacci_sequence.append(next_num)\n",
    "\n",
    "print(\"First\", n, \"Fibonacci numbers:\", fibonacci_sequence)\n"
   ]
  },
  {
   "cell_type": "markdown",
   "id": "667fc4d6-7f41-424d-a5db-aaffb3a61a07",
   "metadata": {},
   "source": [
    "Intermediate:\n",
    "\n",
    "Checking if a given list contains any duplicates using a for loop:"
   ]
  },
  {
   "cell_type": "code",
   "execution_count": 12,
   "id": "af897c4c-a853-4f64-ac67-6e661d9c987e",
   "metadata": {},
   "outputs": [
    {
     "name": "stdout",
     "output_type": "stream",
     "text": [
      "The list contains duplicates.\n"
     ]
    }
   ],
   "source": [
    "def has_duplicates(lst):\n",
    "    seen = set()\n",
    "    for item in lst:\n",
    "        if item in seen:\n",
    "            return True\n",
    "        seen.add(item)\n",
    "    return False\n",
    "\n",
    "# Example usage:\n",
    "my_list = [1, 2, 3, 4, 5, 1]\n",
    "if has_duplicates(my_list):\n",
    "    print(\"The list contains duplicates.\")\n",
    "else:\n",
    "    print(\"The list does not contain duplicates.\")\n"
   ]
  },
  {
   "cell_type": "markdown",
   "id": "607f744f-bf9b-46a5-a8e6-bd8cda4c8bc7",
   "metadata": {},
   "source": [
    "Printing the prime numbers in a given range using a for loop:"
   ]
  },
  {
   "cell_type": "code",
   "execution_count": 13,
   "id": "a4d2fae9-bed8-4512-aead-19d473787751",
   "metadata": {},
   "outputs": [
    {
     "name": "stdout",
     "output_type": "stream",
     "text": [
      "Prime numbers between 10 and 20 are:\n",
      "11\n",
      "13\n",
      "17\n",
      "19\n"
     ]
    }
   ],
   "source": [
    "def is_prime(n):\n",
    "    if n <= 1:\n",
    "        return False\n",
    "    for i in range(2, int(n**0.5) + 1):\n",
    "        if n % i == 0:\n",
    "            return False\n",
    "    return True\n",
    "\n",
    "start = 10\n",
    "end = 20\n",
    "\n",
    "print(\"Prime numbers between\", start, \"and\", end, \"are:\")\n",
    "for num in range(start, end + 1):\n",
    "    if is_prime(num):\n",
    "        print(num)\n"
   ]
  },
  {
   "cell_type": "markdown",
   "id": "8bfad5d3-b7c3-42b9-af6c-154c5097a3c5",
   "metadata": {},
   "source": [
    "Counting the number of vowels in a string using a for loop:"
   ]
  },
  {
   "cell_type": "code",
   "execution_count": 14,
   "id": "591722df-8fcb-470b-85dc-71fd8283fd08",
   "metadata": {},
   "outputs": [
    {
     "name": "stdout",
     "output_type": "stream",
     "text": [
      "Number of vowels: 3\n"
     ]
    }
   ],
   "source": [
    "def count_vowels(string):\n",
    "    vowels = \"aeiouAEIOU\"\n",
    "    count = 0\n",
    "    for char in string:\n",
    "        if char in vowels:\n",
    "            count += 1\n",
    "    return count\n",
    "\n",
    "# Example usage:\n",
    "text = \"Hello World\"\n",
    "print(\"Number of vowels:\", count_vowels(text))\n"
   ]
  },
  {
   "cell_type": "markdown",
   "id": "a7522aa7-6cbf-41f0-8245-98251c72100e",
   "metadata": {},
   "source": [
    "Finding the maximum element in a 2D list using a nested for loop:\n"
   ]
  },
  {
   "cell_type": "code",
   "execution_count": null,
   "id": "c42cd7b0-5548-4bfc-bdc6-4190d8eb5dc2",
   "metadata": {},
   "outputs": [
    {
     "name": "stdout",
     "output_type": "stream",
     "text": [
      "Maximum element in the 2D list: 9\n"
     ]
    }
   ],
   "source": [
    "matrix = [\n",
    "    [1, 2, 3],\n",
    "    [4, 5, 6],\n",
    "    [7, 8, 9]\n",
    "]\n",
    "\n",
    "max_value = float('-inf')\n",
    "\n",
    "for row in matrix:\n",
    "    for element in row:\n",
    "        if element > max_value:\n",
    "            max_value = element\n",
    "\n",
    "print(\"Maximum element in the 2D list:\", max_value)\n"
   ]
  },
  {
   "cell_type": "markdown",
   "id": "5e4c2727-b019-4883-9f26-ecbb8d5ff30a",
   "metadata": {},
   "source": [
    "Removing all occurrences of a specific element from a list using a for loop:"
   ]
  },
  {
   "cell_type": "code",
   "execution_count": 16,
   "id": "451bae1b-6c58-4d5f-99e1-dae2ba9a02dc",
   "metadata": {},
   "outputs": [
    {
     "name": "stdout",
     "output_type": "stream",
     "text": [
      "List after removing 3 : [1, 2, 4, 5]\n"
     ]
    }
   ],
   "source": [
    "def remove_element(lst, element):\n",
    "    return [x for x in lst if x != element]\n",
    "\n",
    "# Example usage:\n",
    "my_list = [1, 2, 3, 4, 3, 5]\n",
    "element_to_remove = 3\n",
    "new_list = remove_element(my_list, element_to_remove)\n",
    "print(\"List after removing\", element_to_remove, \":\", new_list)\n"
   ]
  },
  {
   "cell_type": "markdown",
   "id": "f0d41a56-3553-4dcb-9497-4acf9bb0ddc9",
   "metadata": {},
   "source": [
    "Generating a multiplication table for numbers from 1 to 5 using a nested for loop:"
   ]
  },
  {
   "cell_type": "code",
   "execution_count": 17,
   "id": "8b0ae6b9-f0c3-4f65-93b5-0ce6d819746a",
   "metadata": {},
   "outputs": [
    {
     "name": "stdout",
     "output_type": "stream",
     "text": [
      "1 x 1 = 1\n",
      "1 x 2 = 2\n",
      "1 x 3 = 3\n",
      "1 x 4 = 4\n",
      "1 x 5 = 5\n",
      "1 x 6 = 6\n",
      "1 x 7 = 7\n",
      "1 x 8 = 8\n",
      "1 x 9 = 9\n",
      "1 x 10 = 10\n",
      "\n",
      "2 x 1 = 2\n",
      "2 x 2 = 4\n",
      "2 x 3 = 6\n",
      "2 x 4 = 8\n",
      "2 x 5 = 10\n",
      "2 x 6 = 12\n",
      "2 x 7 = 14\n",
      "2 x 8 = 16\n",
      "2 x 9 = 18\n",
      "2 x 10 = 20\n",
      "\n",
      "3 x 1 = 3\n",
      "3 x 2 = 6\n",
      "3 x 3 = 9\n",
      "3 x 4 = 12\n",
      "3 x 5 = 15\n",
      "3 x 6 = 18\n",
      "3 x 7 = 21\n",
      "3 x 8 = 24\n",
      "3 x 9 = 27\n",
      "3 x 10 = 30\n",
      "\n",
      "4 x 1 = 4\n",
      "4 x 2 = 8\n",
      "4 x 3 = 12\n",
      "4 x 4 = 16\n",
      "4 x 5 = 20\n",
      "4 x 6 = 24\n",
      "4 x 7 = 28\n",
      "4 x 8 = 32\n",
      "4 x 9 = 36\n",
      "4 x 10 = 40\n",
      "\n",
      "5 x 1 = 5\n",
      "5 x 2 = 10\n",
      "5 x 3 = 15\n",
      "5 x 4 = 20\n",
      "5 x 5 = 25\n",
      "5 x 6 = 30\n",
      "5 x 7 = 35\n",
      "5 x 8 = 40\n",
      "5 x 9 = 45\n",
      "5 x 10 = 50\n",
      "\n"
     ]
    }
   ],
   "source": [
    "for i in range(1, 6):\n",
    "    for j in range(1, 11):\n",
    "        print(i, \"x\", j, \"=\", i * j)\n",
    "    print()  # Print an empty line after each table\n"
   ]
  },
  {
   "cell_type": "markdown",
   "id": "8e0e9811-a4e5-43ed-88d9-4a76baecdb47",
   "metadata": {},
   "source": [
    "Converting a list of Fahrenheit temperatures to Celsius using a for loop:"
   ]
  },
  {
   "cell_type": "code",
   "execution_count": 18,
   "id": "de573ff0-2d24-402c-8ec0-9dca72c27373",
   "metadata": {},
   "outputs": [
    {
     "name": "stdout",
     "output_type": "stream",
     "text": [
      "Celsius temperatures: [0.0, 20.0, 30.0, 40.0]\n"
     ]
    }
   ],
   "source": [
    "fahrenheit_temperatures = [32, 68, 86, 104]\n",
    "celsius_temperatures = []\n",
    "\n",
    "for temp in fahrenheit_temperatures:\n",
    "    celsius = (temp - 32) * 5/9\n",
    "    celsius_temperatures.append(celsius)\n",
    "\n",
    "print(\"Celsius temperatures:\", celsius_temperatures)\n"
   ]
  },
  {
   "cell_type": "markdown",
   "id": "78abeb7e-c937-4a4f-9cfd-a53d1695661b",
   "metadata": {},
   "source": [
    "Printing the common elements from two lists using a for loop:"
   ]
  },
  {
   "cell_type": "code",
   "execution_count": 19,
   "id": "fb411e6e-2e67-47a6-851e-c1da1c54dd68",
   "metadata": {},
   "outputs": [
    {
     "name": "stdout",
     "output_type": "stream",
     "text": [
      "Common elements: [4, 5]\n"
     ]
    }
   ],
   "source": [
    "list1 = [1, 2, 3, 4, 5]\n",
    "list2 = [4, 5, 6, 7, 8]\n",
    "\n",
    "common_elements = []\n",
    "\n",
    "for item in list1:\n",
    "    if item in list2:\n",
    "        common_elements.append(item)\n",
    "\n",
    "print(\"Common elements:\", common_elements)\n"
   ]
  },
  {
   "cell_type": "markdown",
   "id": "f9b870a9-d77b-43f1-8310-030429b5e1c8",
   "metadata": {},
   "source": [
    "Printing the pattern of right-angled triangles using a for loop:"
   ]
  },
  {
   "cell_type": "code",
   "execution_count": 20,
   "id": "35bc6903-3683-4b1f-95c7-3d92d90ef4e5",
   "metadata": {},
   "outputs": [
    {
     "name": "stdout",
     "output_type": "stream",
     "text": [
      "*\n",
      "**\n",
      "***\n",
      "****\n",
      "*****\n"
     ]
    }
   ],
   "source": [
    "rows = 5\n",
    "\n",
    "for i in range(1, rows + 1):\n",
    "    for j in range(i):\n",
    "        print(\"*\", end=\"\")\n",
    "    print()\n"
   ]
  },
  {
   "cell_type": "markdown",
   "id": "feb56a72-cf0e-40b9-b970-d955221663f2",
   "metadata": {},
   "source": [
    "Finding the greatest common divisor (GCD) of two numbers using a for loop:"
   ]
  },
  {
   "cell_type": "code",
   "execution_count": 21,
   "id": "a876f9c1-00f3-4669-b9e1-950a0848930f",
   "metadata": {},
   "outputs": [
    {
     "name": "stdout",
     "output_type": "stream",
     "text": [
      "GCD of 24 and 36 is: 12\n"
     ]
    }
   ],
   "source": [
    "def gcd(a, b):\n",
    "    while b:\n",
    "        a, b = b, a % b\n",
    "    return a\n",
    "\n",
    "num1 = 24\n",
    "num2 = 36\n",
    "\n",
    "print(\"GCD of\", num1, \"and\", num2, \"is:\", gcd(num1, num2))\n"
   ]
  },
  {
   "cell_type": "markdown",
   "id": "a284c4c8-0e93-4361-8398-cd74a6f3668b",
   "metadata": {},
   "source": [
    "Advanced Level:\n",
    "\n",
    "Calculating the sum of the digits of numbers in a list using a list comprehension:"
   ]
  },
  {
   "cell_type": "code",
   "execution_count": 22,
   "id": "f1f614fa-7748-4fbe-8059-33b802f11e0a",
   "metadata": {},
   "outputs": [
    {
     "name": "stdout",
     "output_type": "stream",
     "text": [
      "Sum of digits for each number: [6, 15, 24]\n"
     ]
    }
   ],
   "source": [
    "numbers = [123, 456, 789]\n",
    "\n",
    "digit_sums = [sum(int(digit) for digit in str(num)) for num in numbers]\n",
    "\n",
    "print(\"Sum of digits for each number:\", digit_sums)\n"
   ]
  },
  {
   "cell_type": "markdown",
   "id": "e0cff523-7c66-4eaf-aeff-266ac752c8e1",
   "metadata": {},
   "source": [
    "Finding the prime factors of a given number using a for loop and list comprehension:"
   ]
  },
  {
   "cell_type": "code",
   "execution_count": 23,
   "id": "7383aa38-a351-43aa-9902-967f3cc1e034",
   "metadata": {},
   "outputs": [
    {
     "name": "stdout",
     "output_type": "stream",
     "text": [
      "Prime factors of 56 are: [2, 2, 2, 7]\n"
     ]
    }
   ],
   "source": [
    "def prime_factors(n):\n",
    "    factors = []\n",
    "    divisor = 2\n",
    "    while n > 1:\n",
    "        while n % divisor == 0:\n",
    "            factors.append(divisor)\n",
    "            n //= divisor\n",
    "        divisor += 1\n",
    "    return factors\n",
    "\n",
    "number = 56\n",
    "print(\"Prime factors of\", number, \"are:\", prime_factors(number))\n"
   ]
  },
  {
   "cell_type": "markdown",
   "id": "824b78f0-c8e4-49c2-b655-f1590646968a",
   "metadata": {},
   "source": [
    "Extracting unique elements from a list and storing them in a new list using a list comprehension"
   ]
  },
  {
   "cell_type": "code",
   "execution_count": 24,
   "id": "ff1e7dac-7675-432c-b462-15ae56f36959",
   "metadata": {},
   "outputs": [
    {
     "name": "stdout",
     "output_type": "stream",
     "text": [
      "Unique elements: [1, 2, 3, 4, 5]\n"
     ]
    }
   ],
   "source": [
    "original_list = [1, 2, 2, 3, 4, 4, 5, 5]\n",
    "\n",
    "unique_elements = list(set(original_list))\n",
    "\n",
    "print(\"Unique elements:\", unique_elements)\n"
   ]
  },
  {
   "cell_type": "markdown",
   "id": "10eb361a-823b-49a4-8d62-0fcfcf4ca028",
   "metadata": {},
   "source": [
    "Generating a list of all palindromic numbers up to a specified limit using a list comprehension:"
   ]
  },
  {
   "cell_type": "code",
   "execution_count": 25,
   "id": "93d293be-e0b7-44e5-87eb-29a490aff69d",
   "metadata": {},
   "outputs": [
    {
     "name": "stdout",
     "output_type": "stream",
     "text": [
      "Palindromic numbers up to 100 : [1, 2, 3, 4, 5, 6, 7, 8, 9, 11, 22, 33, 44, 55, 66, 77, 88, 99]\n"
     ]
    }
   ],
   "source": [
    "limit = 100\n",
    "\n",
    "palindromic_numbers = [num for num in range(1, limit + 1) if str(num) == str(num)[::-1]]\n",
    "\n",
    "print(\"Palindromic numbers up to\", limit, \":\", palindromic_numbers)\n"
   ]
  },
  {
   "cell_type": "markdown",
   "id": "4c1487ec-bfa9-471b-afeb-bc738b721885",
   "metadata": {},
   "source": [
    "Flattening a nested list using list comprehension:"
   ]
  },
  {
   "cell_type": "code",
   "execution_count": 26,
   "id": "0d74d262-2094-4849-a861-3606435a4a97",
   "metadata": {},
   "outputs": [
    {
     "name": "stdout",
     "output_type": "stream",
     "text": [
      "Flattened list: [1, 2, 3, 4, 5, 6, 7, 8]\n"
     ]
    }
   ],
   "source": [
    "nested_list = [[1, 2, 3], [4, 5], [6, 7, 8]]\n",
    "\n",
    "flattened_list = [item for sublist in nested_list for item in sublist]\n",
    "\n",
    "print(\"Flattened list:\", flattened_list)\n"
   ]
  },
  {
   "cell_type": "markdown",
   "id": "0f620f74-3f8e-4f06-b781-5ce8a6c0e5bc",
   "metadata": {},
   "source": [
    "Computing the sum of even and odd numbers in a list separately using list comprehension:"
   ]
  },
  {
   "cell_type": "code",
   "execution_count": 27,
   "id": "2d487621-189f-4936-9cf5-e1ab97ee9841",
   "metadata": {},
   "outputs": [
    {
     "name": "stdout",
     "output_type": "stream",
     "text": [
      "Sum of even numbers: 20\n",
      "Sum of odd numbers: 25\n"
     ]
    }
   ],
   "source": [
    "numbers = [1, 2, 3, 4, 5, 6, 7, 8, 9]\n",
    "\n",
    "even_sum = sum(num for num in numbers if num % 2 == 0)\n",
    "odd_sum = sum(num for num in numbers if num % 2 != 0)\n",
    "\n",
    "print(\"Sum of even numbers:\", even_sum)\n",
    "print(\"Sum of odd numbers:\", odd_sum)\n"
   ]
  },
  {
   "cell_type": "markdown",
   "id": "22a40e01-8508-4b74-b9e4-ca8d515d8177",
   "metadata": {},
   "source": [
    "Generating a list of squares of odd numbers between 1 and 10 using list comprehension:"
   ]
  },
  {
   "cell_type": "code",
   "execution_count": 28,
   "id": "a6ae852a-49f8-4548-a0e0-7b0e28134664",
   "metadata": {},
   "outputs": [
    {
     "name": "stdout",
     "output_type": "stream",
     "text": [
      "Squares of odd numbers between 1 and 10: [1, 9, 25, 49, 81]\n"
     ]
    }
   ],
   "source": [
    "squares_of_odds = [num**2 for num in range(1, 11) if num % 2 != 0]\n",
    "\n",
    "print(\"Squares of odd numbers between 1 and 10:\", squares_of_odds)\n"
   ]
  },
  {
   "cell_type": "markdown",
   "id": "9afa2bff-f308-4a52-9fb7-612550d4d4b0",
   "metadata": {},
   "source": [
    "Combining two lists into a dictionary using list comprehension:"
   ]
  },
  {
   "cell_type": "code",
   "execution_count": 29,
   "id": "5cd5d9a6-3879-49c5-b562-3dbe9bd5662f",
   "metadata": {},
   "outputs": [
    {
     "name": "stdout",
     "output_type": "stream",
     "text": [
      "Combined dictionary: {'a': 1, 'b': 2, 'c': 3}\n"
     ]
    }
   ],
   "source": [
    "keys = ['a', 'b', 'c']\n",
    "values = [1, 2, 3]\n",
    "\n",
    "combined_dict = {key: value for key, value in zip(keys, values)}\n",
    "\n",
    "print(\"Combined dictionary:\", combined_dict)\n"
   ]
  },
  {
   "cell_type": "markdown",
   "id": "60570abc-eeee-4f72-9625-ff372bccafe2",
   "metadata": {},
   "source": [
    "Extracting vowels from a string and storing them in a list using list comprehension:"
   ]
  },
  {
   "cell_type": "code",
   "execution_count": 30,
   "id": "4da3d991-22fb-408d-9166-fc54dbac1488",
   "metadata": {},
   "outputs": [
    {
     "name": "stdout",
     "output_type": "stream",
     "text": [
      "Vowels in the string: ['e', 'o', 'o']\n"
     ]
    }
   ],
   "source": [
    "text = \"Hello World\"\n",
    "vowels = [char for char in text if char.lower() in 'aeiou']\n",
    "\n",
    "print(\"Vowels in the string:\", vowels)\n"
   ]
  },
  {
   "cell_type": "markdown",
   "id": "a162c651-1363-42a5-9de5-bf87da1beaaa",
   "metadata": {},
   "source": [
    "Removing all non-numeric characters from a list of strings using list comprehension:"
   ]
  },
  {
   "cell_type": "code",
   "execution_count": 31,
   "id": "35962188-65ab-4903-94ec-0eebad19809d",
   "metadata": {},
   "outputs": [
    {
     "name": "stdout",
     "output_type": "stream",
     "text": [
      "Numeric strings: ['123', '456', '789']\n"
     ]
    }
   ],
   "source": [
    "strings = ['123', 'abc', '456', 'def', '789']\n",
    "\n",
    "numeric_strings = [s for s in strings if s.isdigit()]\n",
    "\n",
    "print(\"Numeric strings:\", numeric_strings)\n"
   ]
  },
  {
   "cell_type": "markdown",
   "id": "dd7be147-6492-4db9-a3e5-09c7942658e2",
   "metadata": {},
   "source": [
    "Challenge level\n",
    "\n",
    "Generating a list of prime numbers using the Sieve of Eratosthenes algorithm and list comprehension:"
   ]
  },
  {
   "cell_type": "code",
   "execution_count": 32,
   "id": "c6d22073-3b1a-4a81-b4fb-0cb8d0874c00",
   "metadata": {},
   "outputs": [
    {
     "name": "stdout",
     "output_type": "stream",
     "text": [
      "Prime numbers up to 100 : [2, 3, 5, 7, 11, 13, 17, 19, 23, 29, 31, 37, 41, 43, 47, 53, 59, 61, 67, 71, 73, 79, 83, 89, 97]\n"
     ]
    }
   ],
   "source": [
    "def sieve_of_eratosthenes(n):\n",
    "    primes = [True] * (n + 1)\n",
    "    primes[0], primes[1] = False, False\n",
    "    p = 2\n",
    "    while p * p <= n:\n",
    "        if primes[p]:\n",
    "            for i in range(p * p, n + 1, p):\n",
    "                primes[i] = False\n",
    "        p += 1\n",
    "    return [i for i in range(n + 1) if primes[i]]\n",
    "\n",
    "limit = 100\n",
    "prime_numbers = sieve_of_eratosthenes(limit)\n",
    "print(\"Prime numbers up to\", limit, \":\", prime_numbers)\n"
   ]
  },
  {
   "cell_type": "markdown",
   "id": "b30518a6-1926-4de8-bef6-074bd6d71365",
   "metadata": {},
   "source": [
    "Generating a list of all Pythagorean triplets up to a specified limit using list comprehension:"
   ]
  },
  {
   "cell_type": "code",
   "execution_count": 33,
   "id": "cdf9f119-2459-49a1-955c-1443d2273b46",
   "metadata": {},
   "outputs": [
    {
     "name": "stdout",
     "output_type": "stream",
     "text": [
      "Pythagorean triplets up to 10 : [(3, 4, 5)]\n"
     ]
    }
   ],
   "source": [
    "limit = 10\n",
    "pythagorean_triplets = [(a, b, c) for a in range(1, limit) for b in range(a, limit) for c in range(b, limit) if a**2 + b**2 == c**2]\n",
    "print(\"Pythagorean triplets up to\", limit, \":\", pythagorean_triplets)\n"
   ]
  },
  {
   "cell_type": "markdown",
   "id": "0850c396-7b39-4db0-950b-8c95aaae5765",
   "metadata": {},
   "source": [
    "Generating a list of all possible combinations of two lists using list comprehension:"
   ]
  },
  {
   "cell_type": "code",
   "execution_count": 34,
   "id": "f4268d90-bdcb-451d-a2da-75b31231ffc5",
   "metadata": {},
   "outputs": [
    {
     "name": "stdout",
     "output_type": "stream",
     "text": [
      "All possible combinations of two lists: [(1, 'a'), (1, 'b'), (1, 'c'), (2, 'a'), (2, 'b'), (2, 'c'), (3, 'a'), (3, 'b'), (3, 'c')]\n"
     ]
    }
   ],
   "source": [
    "list1 = [1, 2, 3]\n",
    "list2 = ['a', 'b', 'c']\n",
    "\n",
    "combinations = [(x, y) for x in list1 for y in list2]\n",
    "print(\"All possible combinations of two lists:\", combinations)\n"
   ]
  },
  {
   "cell_type": "markdown",
   "id": "541033df-aeba-474e-8008-346eb05cb11c",
   "metadata": {},
   "source": [
    "Calculating the mean, median, and mode of a list of numbers using list comprehension:"
   ]
  },
  {
   "cell_type": "code",
   "execution_count": 35,
   "id": "ced3950d-3d5d-4bf4-8e8a-59a068845cc2",
   "metadata": {},
   "outputs": [
    {
     "name": "stdout",
     "output_type": "stream",
     "text": [
      "Mean: 5.0\n",
      "Median: 5\n",
      "Mode: 1\n"
     ]
    }
   ],
   "source": [
    "import statistics\n",
    "\n",
    "numbers = [1, 2, 3, 4, 5, 6, 7, 8, 9]\n",
    "\n",
    "mean = sum(numbers) / len(numbers)\n",
    "median = statistics.median(numbers)\n",
    "mode = statistics.mode(numbers)\n",
    "\n",
    "print(\"Mean:\", mean)\n",
    "print(\"Median:\", median)\n",
    "print(\"Mode:\", mode)\n"
   ]
  },
  {
   "cell_type": "markdown",
   "id": "70501e81-f372-4d35-b5b7-d3b9eaac1ff6",
   "metadata": {},
   "source": [
    "Generating Pascal's triangle up to a specified number of rows using list comprehension:"
   ]
  },
  {
   "cell_type": "code",
   "execution_count": 37,
   "id": "d8f1c3a0-6433-44fc-96bd-f247bcb5356f",
   "metadata": {},
   "outputs": [
    {
     "name": "stdout",
     "output_type": "stream",
     "text": [
      "[1]\n",
      "[1, 1]\n",
      "[1, 2, 1]\n",
      "[1, 3, 3, 1]\n",
      "[1, 4, 6, 4, 1]\n"
     ]
    }
   ],
   "source": [
    "def generate_pascals_triangle(rows):\n",
    "    triangle = [[1]]\n",
    "    for i in range(1, rows):\n",
    "        row = [1]\n",
    "        for j in range(1, i):\n",
    "            row.append(triangle[i-1][j-1] + triangle[i-1][j])\n",
    "        row.append(1)\n",
    "        triangle.append(row)\n",
    "    return triangle\n",
    "\n",
    "num_rows = 5\n",
    "pascals_triangle = generate_pascals_triangle(num_rows)\n",
    "for row in pascals_triangle:\n",
    "    print(row)\n"
   ]
  },
  {
   "cell_type": "markdown",
   "id": "e2eed33a-82db-4a79-85f2-0711ea0a2924",
   "metadata": {},
   "source": [
    "Calculating the sum of the digits of a factorial of numbers from 1 to 5 using list comprehension:"
   ]
  },
  {
   "cell_type": "code",
   "execution_count": 38,
   "id": "81bd34c1-4836-416a-81e6-0c40954a36db",
   "metadata": {},
   "outputs": [
    {
     "name": "stdout",
     "output_type": "stream",
     "text": [
      "Sum of digits of factorials from 1 to 5: [1, 2, 6, 6, 3]\n"
     ]
    }
   ],
   "source": [
    "def factorial(n):\n",
    "    if n == 0:\n",
    "        return 1\n",
    "    return n * factorial(n - 1)\n",
    "\n",
    "sum_of_digits = [sum(int(digit) for digit in str(factorial(num))) for num in range(1, 6)]\n",
    "print(\"Sum of digits of factorials from 1 to 5:\", sum_of_digits)\n"
   ]
  },
  {
   "cell_type": "markdown",
   "id": "78971dcf-3d84-4e97-a841-8c24ffc8aa9e",
   "metadata": {},
   "source": [
    "Finding the longest word in a sentence using list comprehension:"
   ]
  },
  {
   "cell_type": "code",
   "execution_count": 39,
   "id": "c79c17b1-05a6-43e2-b271-1c707039824a",
   "metadata": {},
   "outputs": [
    {
     "name": "stdout",
     "output_type": "stream",
     "text": [
      "Longest word in the sentence: sentence\n"
     ]
    }
   ],
   "source": [
    "sentence = \"This is a sample sentence to find the longest word\"\n",
    "longest_word = max(sentence.split(), key=lambda word: len(word))\n",
    "print(\"Longest word in the sentence:\", longest_word)\n"
   ]
  },
  {
   "cell_type": "markdown",
   "id": "46fe7c21-6aee-4174-97c6-40779b8da9d4",
   "metadata": {},
   "source": [
    "Filtering a list of strings to include only those with more than three vowels using list comprehension:"
   ]
  },
  {
   "cell_type": "code",
   "execution_count": 40,
   "id": "1146209e-760b-42ac-9e34-696da3959770",
   "metadata": {},
   "outputs": [
    {
     "name": "stdout",
     "output_type": "stream",
     "text": [
      "Strings with more than three vowels: ['artificial', 'intelligence']\n"
     ]
    }
   ],
   "source": [
    "strings = [\"hello\", \"world\", \"programming\", \"python\", \"artificial\", \"intelligence\"]\n",
    "\n",
    "filtered_strings = [s for s in strings if sum(1 for char in s if char.lower() in 'aeiou') > 3]\n",
    "print(\"Strings with more than three vowels:\", filtered_strings)\n"
   ]
  },
  {
   "cell_type": "markdown",
   "id": "7b7edbf6-c027-4652-af56-fd0435223171",
   "metadata": {},
   "source": [
    "Generating a list of prime palindromic numbers using list comprehension:|"
   ]
  },
  {
   "cell_type": "code",
   "execution_count": 42,
   "id": "6d146021-ccc2-43fb-a540-f5cc3f19d6ca",
   "metadata": {},
   "outputs": [
    {
     "name": "stdout",
     "output_type": "stream",
     "text": [
      "Prime palindromic numbers up to 1000 : [2, 3, 5, 7, 11, 101, 131, 151, 181, 191, 313, 353, 373, 383, 727, 757, 787, 797, 919, 929]\n"
     ]
    }
   ],
   "source": [
    "def is_prime(n):\n",
    "    if n < 2:\n",
    "        return False\n",
    "    for i in range(2, int(n ** 0.5) + 1):\n",
    "        if n % i == 0:\n",
    "            return False\n",
    "    return True\n",
    "\n",
    "def is_palindrome(n):\n",
    "    return str(n) == str(n)[::-1]\n",
    "\n",
    "limit = 1000\n",
    "prime_palindromes = [num for num in range(2, limit) if is_prime(num) and is_palindrome(num)]\n",
    "print(\"Prime palindromic numbers up to\", limit, \":\", prime_palindromes)\n"
   ]
  },
  {
   "cell_type": "markdown",
   "id": "fc5564d9-6b2f-490b-94ee-51f286c24c4c",
   "metadata": {},
   "source": []
  }
 ],
 "metadata": {
  "kernelspec": {
   "display_name": "Python 3 (ipykernel)",
   "language": "python",
   "name": "python3"
  },
  "language_info": {
   "codemirror_mode": {
    "name": "ipython",
    "version": 3
   },
   "file_extension": ".py",
   "mimetype": "text/x-python",
   "name": "python",
   "nbconvert_exporter": "python",
   "pygments_lexer": "ipython3",
   "version": "3.10.8"
  }
 },
 "nbformat": 4,
 "nbformat_minor": 5
}
