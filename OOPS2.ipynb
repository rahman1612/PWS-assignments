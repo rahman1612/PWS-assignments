{
 "cells": [
  {
   "cell_type": "markdown",
   "id": "fb0c1470-8745-4ea8-ba8b-593acaddb3a8",
   "metadata": {},
   "source": [
    "1. What is a constructor in Python? Explain its purpose and usage."
   ]
  },
  {
   "cell_type": "markdown",
   "id": "586573ed-1c73-474d-9ae2-cf1059216091",
   "metadata": {},
   "source": [
    "A constructor in Python is a special method used for initializing newly created objects. Its purpose is to set up initial values for object attributes or perform any necessary setup tasks when an object is instantiated from a class. The constructor is called automatically when an object of the class is created."
   ]
  },
  {
   "cell_type": "markdown",
   "id": "08e63dc8-96e6-49fe-8e54-0b5d0b57fb87",
   "metadata": {},
   "source": [
    "2. Differentiate between a parameterless constructor and a parameterized constructor in Python."
   ]
  },
  {
   "cell_type": "markdown",
   "id": "b57dd448-2177-47ff-8728-8d7ae8a94872",
   "metadata": {},
   "source": [
    "== A parameterless constructor is a constructor that takes no parameters. It is used when the initialization of attributes does not require any external input.\n",
    "A parameterized constructor, on the other hand, is a constructor that accepts one or more parameters. It is used when the initialization of attributes requires external input or customization."
   ]
  },
  {
   "cell_type": "markdown",
   "id": "ecec4750-a7a1-409d-98a7-051ddd086c24",
   "metadata": {},
   "source": [
    "3. How do you define a constructor in a Python class? Provide an example."
   ]
  },
  {
   "cell_type": "code",
   "execution_count": 2,
   "id": "01d8005b-a9b4-49eb-a4e5-c0839cf9fffd",
   "metadata": {},
   "outputs": [],
   "source": [
    "class MyClass:\n",
    "    def __init__(self, parameter1, parameter2):\n",
    "        self.attribute1 = parameter1\n",
    "        self.attribute2 = parameter2\n"
   ]
  },
  {
   "cell_type": "markdown",
   "id": "073a0985-7fe0-4f00-82f0-4fa2ae034a00",
   "metadata": {},
   "source": [
    "4. Explain the __init__ method in Python and its role in constructors."
   ]
  },
  {
   "cell_type": "markdown",
   "id": "445cce22-b4fd-48c6-8807-08a4fa053083",
   "metadata": {},
   "source": [
    "Answer:\n",
    "The __init__ method in Python is a special method that initializes newly created objects. It is called automatically when an object is created from the class. The __init__ method is used to set initial values for object attributes or perform any necessary setup tasks."
   ]
  },
  {
   "cell_type": "markdown",
   "id": "ee882153-1ef4-4d1c-8aa3-06facb795460",
   "metadata": {},
   "source": [
    "5. In a class named Person, create a constructor that initializes the name and age attributes. Provide an example of creating an object of this class."
   ]
  },
  {
   "cell_type": "code",
   "execution_count": 4,
   "id": "ee9a483c-2791-4615-a5f8-db98faeef13e",
   "metadata": {},
   "outputs": [],
   "source": [
    "class Person:\n",
    "    def __init__(self, name, age):\n",
    "        self.name = name\n",
    "        self.age = age\n",
    "\n",
    "# Creating an object of the Person class\n",
    "person1 = Person(\"Alice\", 30)\n"
   ]
  },
  {
   "cell_type": "markdown",
   "id": "da8bfe20-c245-43f5-8488-1d3907904ba8",
   "metadata": {},
   "source": [
    "6. How can you call a constructor explicitly in Python? Give an example."
   ]
  },
  {
   "cell_type": "code",
   "execution_count": 6,
   "id": "e9bbf0e7-46b1-47ba-a3c5-05723178e6d8",
   "metadata": {},
   "outputs": [
    {
     "name": "stdout",
     "output_type": "stream",
     "text": [
      "Constructor called\n",
      "Constructor called\n"
     ]
    }
   ],
   "source": [
    "#Constructors in Python are called automatically when an object is created, so explicit calling of constructors is not necessary. However, if needed, you can call a constructor explicitly like any other method:\n",
    "    \n",
    "class MyClass:\n",
    "    def __init__(self):\n",
    "        print(\"Constructor called\")\n",
    "\n",
    "# Explicitly calling the constructor\n",
    "obj = MyClass().__init__()\n",
    "    "
   ]
  },
  {
   "cell_type": "markdown",
   "id": "38dff01b-4c2f-48cc-8a6e-0ab7baf9bb14",
   "metadata": {},
   "source": [
    "7. What is the significance of the self parameter in Python constructors? Explain with an example."
   ]
  },
  {
   "cell_type": "code",
   "execution_count": 7,
   "id": "b842d93a-29a4-4ec9-8d64-8a9203b65d61",
   "metadata": {},
   "outputs": [
    {
     "name": "stdout",
     "output_type": "stream",
     "text": [
      "Alice\n"
     ]
    }
   ],
   "source": [
    "#Answer:\n",
    "#The self parameter in Python constructors refers to the instance of the class itself. It is used to access and modify attributes and methods of the object within the constructor. Here's an example:\n",
    "\n",
    "class Person:\n",
    "    def __init__(self, name, age):\n",
    "        self.name = name\n",
    "        self.age = age\n",
    "\n",
    "# Creating an object of the Person class\n",
    "person1 = Person(\"Alice\", 30)\n",
    "print(person1.name)  # Accessing attribute using self\n"
   ]
  },
  {
   "cell_type": "markdown",
   "id": "05c31c3d-cbb5-48d3-8502-4a64327fe094",
   "metadata": {},
   "source": [
    "8. Discuss the concept of default constructors in Python. When are they used?"
   ]
  },
  {
   "cell_type": "code",
   "execution_count": 9,
   "id": "d965f9e6-d876-46b2-9fc8-ade7c84a0425",
   "metadata": {},
   "outputs": [],
   "source": [
    "\n",
    "#Default constructors in Python are constructors that are automatically provided by Python if no constructor is explicitly defined in a class. They initialize the object with default values or perform default initialization tasks. Default constructors are used when the class does not have any constructor defined.\n"
   ]
  },
  {
   "cell_type": "markdown",
   "id": "ab369a2c-e214-440f-a44c-40a8ca1ed2ea",
   "metadata": {},
   "source": [
    "9. Create a Python class called Rectangle with a constructor that initializes the width and height attributes. Provide a method to calculate the area of the rectangle."
   ]
  },
  {
   "cell_type": "code",
   "execution_count": 10,
   "id": "75531550-a413-451f-a846-7c93fe00babd",
   "metadata": {},
   "outputs": [
    {
     "name": "stdout",
     "output_type": "stream",
     "text": [
      "Area of Rectangle: 15\n"
     ]
    }
   ],
   "source": [
    "#Answer:\n",
    "#Example of a Rectangle class with a constructor and a method to calculate the area of the rectangle:\n",
    "\n",
    "\n",
    "class Rectangle:\n",
    "    def __init__(self, width, height):\n",
    "        self.width = width\n",
    "        self.height = height\n",
    "\n",
    "    def calculate_area(self):\n",
    "        return self.width * self.height\n",
    "\n",
    "# Creating an object of the Rectangle class\n",
    "rect = Rectangle(5, 3)\n",
    "print(\"Area of Rectangle:\", rect.calculate_area())\n"
   ]
  },
  {
   "cell_type": "markdown",
   "id": "99a90a3b-cde5-4323-90b5-96cb9b81eac8",
   "metadata": {},
   "source": [
    "How can you have multiple constructors in a Python class? Explain with an example."
   ]
  },
  {
   "cell_type": "code",
   "execution_count": 11,
   "id": "23483190-e216-44fb-8016-715bbefe2f33",
   "metadata": {},
   "outputs": [],
   "source": [
    "# answer Python does not support method overloading in the same way as some other languages, so technically, there are no multiple constructors in Python. However, you can achieve similar behavior by using default parameter values or by using different initialization logic within the same __init__ method. Here's an example:\n",
    "\n",
    "class MyClass:\n",
    "    def __init__(self, parameter1=None, parameter2=None):\n",
    "        if parameter1 is not None and parameter2 is not None:\n",
    "            # Parameterized constructor logic\n",
    "            self.attribute1 = parameter1\n",
    "            self.attribute2 = parameter2\n",
    "        else:\n",
    "            # Default constructor logic\n",
    "            self.attribute1 = \"default_value1\"\n",
    "            self.attribute2 = \"default_value2\"\n"
   ]
  },
  {
   "cell_type": "markdown",
   "id": "47edc382-ae99-4fc6-9271-214d98720da5",
   "metadata": {},
   "source": [
    "Inheritence:\n",
    "\n",
    "1.What is inheritance in Python? Explain its significance in object-oriented programming."
   ]
  },
  {
   "cell_type": "markdown",
   "id": "fbe2d017-c352-4bfe-ad16-69d5e353fcb1",
   "metadata": {},
   "source": [
    "Answer:\n",
    "Inheritance in Python is a mechanism by which a class can inherit properties and behavior from another class, called the superclass or parent class. The class that inherits from the superclass is called the subclass or child class. Inheritance allows for code reusability and promotes the concept of hierarchical classification. It enables the creation of a new class with the same characteristics as an existing class, along with additional features or modifications.\n"
   ]
  },
  {
   "cell_type": "markdown",
   "id": "39f00a5c-2c94-41fb-8d37-9337a3cc5516",
   "metadata": {},
   "source": [
    "2. Differentiate between single inheritance and multiple inheritance in Python. Provide examples for each."
   ]
  },
  {
   "cell_type": "markdown",
   "id": "7bca9950-adfc-4691-a373-8bd6e777098a",
   "metadata": {},
   "source": [
    "Answer:\n",
    "\n",
    "Single Inheritance: In single inheritance, a subclass inherits from only one superclass.\n",
    "\n",
    "Example:"
   ]
  },
  {
   "cell_type": "code",
   "execution_count": 12,
   "id": "5742856b-ed1a-4bb9-970d-06a7a355f67c",
   "metadata": {},
   "outputs": [
    {
     "name": "stdout",
     "output_type": "stream",
     "text": [
      "Parent method\n",
      "Child method\n"
     ]
    }
   ],
   "source": [
    "class Parent:\n",
    "    def method_parent(self):\n",
    "        print(\"Parent method\")\n",
    "\n",
    "class Child(Parent):\n",
    "    def method_child(self):\n",
    "        print(\"Child method\")\n",
    "\n",
    "obj = Child()\n",
    "obj.method_parent()\n",
    "obj.method_child()\n"
   ]
  },
  {
   "cell_type": "markdown",
   "id": "433d638a-dd7d-472d-85eb-cd7a42541a5c",
   "metadata": {},
   "source": [
    "Multiple Inheritance: In multiple inheritance, a subclass inherits from multiple superclasses.\n",
    "\n",
    "Example:"
   ]
  },
  {
   "cell_type": "code",
   "execution_count": 13,
   "id": "51a274d7-d9ac-42ba-b5df-a7e74be7819e",
   "metadata": {},
   "outputs": [
    {
     "name": "stdout",
     "output_type": "stream",
     "text": [
      "Parent1 method\n",
      "Parent2 method\n",
      "Child method\n"
     ]
    }
   ],
   "source": [
    "class Parent1:\n",
    "    def method_parent1(self):\n",
    "        print(\"Parent1 method\")\n",
    "\n",
    "class Parent2:\n",
    "    def method_parent2(self):\n",
    "        print(\"Parent2 method\")\n",
    "\n",
    "class Child(Parent1, Parent2):\n",
    "    def method_child(self):\n",
    "        print(\"Child method\")\n",
    "\n",
    "obj = Child()\n",
    "obj.method_parent1()\n",
    "obj.method_parent2()\n",
    "obj.method_child()\n"
   ]
  },
  {
   "cell_type": "markdown",
   "id": "87c85b2e-b2c8-4a84-8783-bf83d5dad72c",
   "metadata": {},
   "source": [
    "3. Create a Python class called Vehicle with attributes color and speed. Then, create a child class called Car that inherits from Vehicle and adds a brand attribute. Provide an example of creating a Car object."
   ]
  },
  {
   "cell_type": "code",
   "execution_count": 14,
   "id": "4c38dad9-1f1a-425b-abd1-a1dc5b7197ab",
   "metadata": {},
   "outputs": [],
   "source": [
    "class Vehicle:\n",
    "    def __init__(self, color, speed):\n",
    "        self.color = color\n",
    "        self.speed = speed\n",
    "\n",
    "class Car(Vehicle):\n",
    "    def __init__(self, color, speed, brand):\n",
    "        super().__init__(color, speed)\n",
    "        self.brand = brand\n",
    "\n",
    "# Creating a Car object\n",
    "my_car = Car(\"Red\", 100, \"Toyota\")\n"
   ]
  },
  {
   "cell_type": "markdown",
   "id": "654c9a41-c6d5-4ea3-989a-ef854b02f820",
   "metadata": {},
   "source": [
    "Explain the concept of method overriding in inheritance. Provide a practical example.\n",
    "\n",
    "Answer:"
   ]
  },
  {
   "cell_type": "markdown",
   "id": "98e79998-06e3-4ae8-8389-91715a2ab155",
   "metadata": {},
   "source": [
    "Method overriding in inheritance refers to the ability of a subclass to provide a specific implementation of a method that is already defined in its superclass. This allows the subclass to change the behavior of the inherited method while keeping the method name and signature the same.\n",
    "\n",
    "Example:"
   ]
  },
  {
   "cell_type": "code",
   "execution_count": 15,
   "id": "f0801617-8160-43e3-af4a-667a13d3ea30",
   "metadata": {},
   "outputs": [
    {
     "name": "stdout",
     "output_type": "stream",
     "text": [
      "Child method\n"
     ]
    }
   ],
   "source": [
    "class Parent:\n",
    "    def show(self):\n",
    "        print(\"Parent method\")\n",
    "\n",
    "class Child(Parent):\n",
    "    def show(self):\n",
    "        print(\"Child method\")\n",
    "\n",
    "obj = Child()\n",
    "obj.show()  # Output: Child method\n"
   ]
  },
  {
   "cell_type": "markdown",
   "id": "a3b43255-2504-4e12-b578-2192de05f495",
   "metadata": {},
   "source": [
    "5. How can you access the methods and attributes of a parent class from a child class in Python? Give an example."
   ]
  },
  {
   "cell_type": "markdown",
   "id": "a7eb146b-d3eb-4614-9aff-810923d988a4",
   "metadata": {},
   "source": [
    "You can access the methods and attributes of a parent class from a child class using the super() function.\n",
    "\n",
    "Example:"
   ]
  },
  {
   "cell_type": "code",
   "execution_count": 16,
   "id": "e0b667c9-3501-4362-b736-0da0aac445c7",
   "metadata": {},
   "outputs": [
    {
     "name": "stdout",
     "output_type": "stream",
     "text": [
      "Parent method\n",
      "Child method\n"
     ]
    }
   ],
   "source": [
    "class Parent:\n",
    "    def parent_method(self):\n",
    "        print(\"Parent method\")\n",
    "\n",
    "class Child(Parent):\n",
    "    def child_method(self):\n",
    "        super().parent_method()  # Accessing parent method\n",
    "        print(\"Child method\")\n",
    "\n",
    "obj = Child()\n",
    "obj.child_method()\n"
   ]
  },
  {
   "cell_type": "markdown",
   "id": "47c17d7e-44ed-47dc-aa89-2d6be265eb26",
   "metadata": {},
   "source": [
    "6. Discuss the use of the super() function in Python inheritance. When and why is it used? Provide an example."
   ]
  },
  {
   "cell_type": "markdown",
   "id": "3d4db094-d12f-440f-85ec-c9f96df31abe",
   "metadata": {},
   "source": [
    "Answer:\n",
    "The super() function in Python is used to call methods and access attributes of the superclass from within a subclass. It is typically used in the context of method overriding to invoke the superclass's method implementation.\n",
    "\n",
    "Example:"
   ]
  },
  {
   "cell_type": "code",
   "execution_count": 17,
   "id": "e1eaa31f-6f02-4d65-9b40-2c3d86e59f45",
   "metadata": {},
   "outputs": [
    {
     "name": "stdout",
     "output_type": "stream",
     "text": [
      "Parent method\n",
      "Child method\n"
     ]
    }
   ],
   "source": [
    "class Parent:\n",
    "    def show(self):\n",
    "        print(\"Parent method\")\n",
    "\n",
    "class Child(Parent):\n",
    "    def show(self):\n",
    "        super().show()  # Calling parent method\n",
    "        print(\"Child method\")\n",
    "\n",
    "obj = Child()\n",
    "obj.show()\n"
   ]
  },
  {
   "cell_type": "markdown",
   "id": "72828135-1583-44c2-9b39-7a47fb3b53d2",
   "metadata": {},
   "source": [
    "7. Create a Python class called Animal with a method speak(). Then, create child classes Dog and Cat that inherit from Animal and override the speak() method. Provide an example of using these classes."
   ]
  },
  {
   "cell_type": "code",
   "execution_count": 18,
   "id": "b3292637-9612-4b97-a8b8-5c8160187a31",
   "metadata": {},
   "outputs": [
    {
     "name": "stdout",
     "output_type": "stream",
     "text": [
      "Woof!\n",
      "Meow!\n"
     ]
    }
   ],
   "source": [
    "class Animal:\n",
    "    def speak(self):\n",
    "        pass\n",
    "\n",
    "class Dog(Animal):\n",
    "    def speak(self):\n",
    "        print(\"Woof!\")\n",
    "\n",
    "class Cat(Animal):\n",
    "    def speak(self):\n",
    "        print(\"Meow!\")\n",
    "\n",
    "dog = Dog()\n",
    "dog.speak()  # Output: Woof!\n",
    "\n",
    "cat = Cat()\n",
    "cat.speak()  # Output: Meow!\n"
   ]
  },
  {
   "cell_type": "markdown",
   "id": "22b15ca7-7890-4c66-9695-00260d4de20f",
   "metadata": {},
   "source": [
    "8. Explain the role of the isinstance() function in Python and how it relates to inheritance."
   ]
  },
  {
   "cell_type": "markdown",
   "id": "e100a006-371c-47ef-8f39-935d592344b3",
   "metadata": {},
   "source": [
    "Answer:\n",
    "The isinstance() function in Python is used to check if an object belongs to a particular class or its subclass. It returns True if the object is an instance of the specified class or subclass, and False otherwise. It is often used to perform type checking and to verify the inheritance relationship between classes."
   ]
  },
  {
   "cell_type": "markdown",
   "id": "6f5c7e58-2026-4f09-b3b8-de009e76c24d",
   "metadata": {},
   "source": [
    "9. What is the purpose of the issubclass() function in Python? Provide an example"
   ]
  },
  {
   "cell_type": "markdown",
   "id": "ac06a18c-4ffc-4c5e-80ed-eaebed30f68c",
   "metadata": {},
   "source": [
    "The issubclass() function in Python is used to check if a class is a subclass of another class. It returns True if the first class is a subclass of the second class, and False otherwise. It helps in determining the inheritance relationship between classes.\n",
    "\n",
    "Example:"
   ]
  },
  {
   "cell_type": "code",
   "execution_count": 19,
   "id": "3d103985-bf3a-4e6c-ac27-b84282a2296e",
   "metadata": {},
   "outputs": [
    {
     "name": "stdout",
     "output_type": "stream",
     "text": [
      "True\n"
     ]
    }
   ],
   "source": [
    "class Parent:\n",
    "    pass\n",
    "\n",
    "class Child(Parent):\n",
    "    pass\n",
    "\n",
    "print(issubclass(Child, Parent))  # Output: True\n"
   ]
  },
  {
   "cell_type": "markdown",
   "id": "b31d6d53-ef4a-4a05-ac9d-8bdcbb3fd69d",
   "metadata": {},
   "source": [
    "10. Discuss the concept of constructor inheritance in Python. How are constructors inherited in child classes?"
   ]
  },
  {
   "cell_type": "markdown",
   "id": "3c4e5237-596c-4df1-8ff4-376bb6eee94c",
   "metadata": {},
   "source": [
    "Answer:\n",
    "In Python, constructors are inherited by child classes if the child class does not define its own constructor. If the child class defines its own constructor, it can explicitly call the constructor of the parent class using the super() function to initialize the inherited attributes."
   ]
  },
  {
   "cell_type": "markdown",
   "id": "65de21b8-0400-4ae0-8376-6994e8b6f726",
   "metadata": {},
   "source": [
    "Encapsulation:\n",
    "\n",
    "1. Explain the concept of encapsulation in Python. What is its role in object-oriented programming?"
   ]
  },
  {
   "cell_type": "markdown",
   "id": "14219ea9-3e94-4b91-8115-f352cd12c5e4",
   "metadata": {},
   "source": [
    "Answer:\n",
    "Encapsulation is a fundamental concept in object-oriented programming (OOP) that involves bundling the data (attributes) and methods (functions) that operate on the data into a single unit, known as a class. It allows for the implementation details of a class to be hidden from the outside world, providing a way to protect the data from unauthorized access and modification. Encapsulation helps in achieving data abstraction, modularity, and code maintainability in OOP."
   ]
  },
  {
   "cell_type": "markdown",
   "id": "235b9b6b-493b-48e5-b968-102a4d343785",
   "metadata": {},
   "source": [
    "2. Describe the key principles of encapsulation, including access control and data hiding.\n",
    "\n",
    "Answer:\n",
    "\n",
    "Access Control: Encapsulation allows for controlling the access to the internal components of a class. Access control mechanisms, such as public, private, and protected access modifiers, dictate how the attributes and methods of a class can be accessed from outside the class.\n",
    "Data Hiding: Encapsulation involves hiding the internal state (data) of an object from the outside world and providing controlled access to it through methods. This prevents direct manipulation of the object's data and enforces data integrity and security"
   ]
  },
  {
   "cell_type": "markdown",
   "id": "f5aa22db-dcbe-4332-8584-aee3271b387a",
   "metadata": {},
   "source": [
    "3. How can you achieve encapsulation in Python classes? Provide an example.\n",
    "\n",
    "Answer:\n",
    "Encapsulation in Python classes can be achieved by defining attributes as private using the double underscore (__) prefix and providing methods to access and modify these attributes, thereby controlling the interaction with the object's data.\n",
    "\n",
    "Example:"
   ]
  },
  {
   "cell_type": "code",
   "execution_count": 20,
   "id": "a18b9133-584e-423b-96d7-a0417c2d6eac",
   "metadata": {},
   "outputs": [
    {
     "name": "stdout",
     "output_type": "stream",
     "text": [
      "Name: Alice\n",
      "Modified Name: Bob\n"
     ]
    }
   ],
   "source": [
    "class Person:\n",
    "    def __init__(self, name):\n",
    "        self.__name = name\n",
    "\n",
    "    def get_name(self):\n",
    "        return self.__name\n",
    "\n",
    "    def set_name(self, name):\n",
    "        self.__name = name\n",
    "\n",
    "# Creating a Person object\n",
    "person = Person(\"Alice\")\n",
    "print(\"Name:\", person.get_name())\n",
    "\n",
    "# Modifying the name\n",
    "person.set_name(\"Bob\")\n",
    "print(\"Modified Name:\", person.get_name())\n"
   ]
  },
  {
   "cell_type": "markdown",
   "id": "ca97917e-51d4-437a-8536-b254825a653e",
   "metadata": {},
   "source": [
    "4. Discuss the difference between public, private, and protected access modifiers in Python.\n",
    "\n",
    "Answer:\n",
    "\n",
    "Public: Attributes and methods marked as public are accessible from outside the class. They do not have any access restrictions and can be accessed using dot notation.\n",
    "Private: Attributes and methods marked as private are accessible only from within the class itself. They are indicated by prefixing the attribute or method name with double underscores (__).\n",
    "Protected: Attributes and methods marked as protected are accessible within the class itself and its subclasses. They are indicated by prefixing the attribute or method name with a single underscore (_)."
   ]
  },
  {
   "cell_type": "markdown",
   "id": "8e59246c-4ef6-44cf-aff1-51a10da7b127",
   "metadata": {},
   "source": [
    "5. Create a Python class called Person with a private attribute __name. Provide methods to get and set the name attribute.\n",
    "\n",
    "Answer:"
   ]
  },
  {
   "cell_type": "code",
   "execution_count": 21,
   "id": "25dbea51-4e75-45e2-9798-8cee8391be36",
   "metadata": {},
   "outputs": [
    {
     "name": "stdout",
     "output_type": "stream",
     "text": [
      "Name: Alice\n",
      "Modified Name: Bob\n"
     ]
    }
   ],
   "source": [
    "class Person:\n",
    "    def __init__(self, name):\n",
    "        self.__name = name\n",
    "\n",
    "    def get_name(self):\n",
    "        return self.__name\n",
    "\n",
    "    def set_name(self, name):\n",
    "        self.__name = name\n",
    "\n",
    "# Creating a Person object\n",
    "person = Person(\"Alice\")\n",
    "\n",
    "# Getting the name\n",
    "print(\"Name:\", person.get_name())\n",
    "\n",
    "# Modifying the name\n",
    "person.set_name(\"Bob\")\n",
    "print(\"Modified Name:\", person.get_name())\n"
   ]
  },
  {
   "cell_type": "markdown",
   "id": "9be5d5b0-b231-4769-8d2f-35d510b64da3",
   "metadata": {},
   "source": [
    "6. Explain the purpose of getter and setter methods in encapsulation. Provide examples.\n",
    "\n",
    "Answer:\n",
    "Getter and setter methods are used to encapsulate access to private attributes of a class. Getter methods allow retrieving the value of a private attribute, while setter methods allow modifying the value of a private attribute, thus providing controlled access and modification.\n",
    "\n",
    "Example:"
   ]
  },
  {
   "cell_type": "code",
   "execution_count": 22,
   "id": "c58bb142-db67-49ce-b530-7d9ba6a457a2",
   "metadata": {},
   "outputs": [
    {
     "name": "stdout",
     "output_type": "stream",
     "text": [
      "Name: Alice\n",
      "Modified Name: Bob\n"
     ]
    }
   ],
   "source": [
    "class Person:\n",
    "    def __init__(self, name):\n",
    "        self.__name = name\n",
    "\n",
    "    def get_name(self):\n",
    "        return self.__name\n",
    "\n",
    "    def set_name(self, name):\n",
    "        self.__name = name\n",
    "\n",
    "# Creating a Person object\n",
    "person = Person(\"Alice\")\n",
    "\n",
    "# Getting the name\n",
    "print(\"Name:\", person.get_name())\n",
    "\n",
    "# Modifying the name\n",
    "person.set_name(\"Bob\")\n",
    "print(\"Modified Name:\", person.get_name())\n"
   ]
  },
  {
   "cell_type": "markdown",
   "id": "0e597123-b7f3-4201-838a-6816b84d2e81",
   "metadata": {},
   "source": [
    "7. What is name mangling in Python, and how does it affect encapsulation?\n",
    "\n",
    "Answer:\n",
    "Name mangling is a mechanism used in Python to make the attributes and methods marked as private more secure by internally modifying their names. This modification involves adding the class name as a prefix to the attribute or method name with double underscores (__). This process makes it difficult for external code to access or modify private attributes directly, thereby enhancing encapsulation and data hiding."
   ]
  },
  {
   "cell_type": "markdown",
   "id": "2c226a6e-6745-4409-a102-a2535ba6957f",
   "metadata": {},
   "source": [
    "Create a Python class called BankAccount with private attributes for the account balance (__balance) and account number (__account_number). Provide methods for depositing and withdrawing money.\n",
    "\n",
    "Answer:"
   ]
  },
  {
   "cell_type": "code",
   "execution_count": 23,
   "id": "6bcf2f9a-c204-4396-b0c3-3af10d377f93",
   "metadata": {},
   "outputs": [
    {
     "name": "stdout",
     "output_type": "stream",
     "text": [
      "Deposit successful. New balance: 1000\n",
      "Withdrawal successful. New balance: 500\n"
     ]
    }
   ],
   "source": [
    "class BankAccount:\n",
    "    def __init__(self, account_number):\n",
    "        self.__account_number = account_number\n",
    "        self.__balance = 0\n",
    "\n",
    "    def deposit(self, amount):\n",
    "        self.__balance += amount\n",
    "        print(\"Deposit successful. New balance:\", self.__balance)\n",
    "\n",
    "    def withdraw(self, amount):\n",
    "        if self.__balance >= amount:\n",
    "            self.__balance -= amount\n",
    "            print(\"Withdrawal successful. New balance:\", self.__balance)\n",
    "        else:\n",
    "            print(\"Insufficient balance.\")\n",
    "\n",
    "# Creating a BankAccount object\n",
    "account = BankAccount(\"1234567890\")\n",
    "\n",
    "# Depositing money\n",
    "account.deposit(1000)\n",
    "\n",
    "# Withdrawing money\n",
    "account.withdraw(500)\n"
   ]
  },
  {
   "cell_type": "markdown",
   "id": "032e4863-22bd-44fd-bd0f-5fe5554745de",
   "metadata": {},
   "source": [
    "9. Discuss the advantages of encapsulation in terms of code maintainability and security.\n",
    "\n",
    "Answer:\n",
    "\n",
    "Code Maintainability: Encapsulation promotes modular design by hiding the internal implementation details of a class, making it easier to modify and maintain the code. Changes made to the internal structure of a class do not affect the code that uses the class externally.\n",
    "Security: Encapsulation helps in protecting the data of a class from unauthorized access and modification. By controlling access to class attributes and methods, encapsulation prevents accidental or intentional misuse of the class, thereby enhancing security."
   ]
  },
  {
   "cell_type": "markdown",
   "id": "aff15d4d-9441-415a-8773-90692909cb66",
   "metadata": {},
   "source": [
    "10. How can you access private attributes in Python? Provide an example demonstrating the use of name mangling.\n",
    "\n",
    "Answer:\n",
    "Private attributes in Python can be accessed indirectly from outside the class by using name mangling, which involves prefixing the attribute name with the class name. However, this is not recommended as it bypasses encapsulation and violates the principle of data hiding.\n",
    "\n",
    "Example:"
   ]
  },
  {
   "cell_type": "code",
   "execution_count": 24,
   "id": "83d7cce0-3c62-4c15-a861-1e00725e782a",
   "metadata": {},
   "outputs": [
    {
     "name": "stdout",
     "output_type": "stream",
     "text": [
      "42\n"
     ]
    }
   ],
   "source": [
    "class MyClass:\n",
    "    def __init__(self):\n",
    "        self.__private_attr = 42\n",
    "\n",
    "obj = MyClass()\n",
    "print(obj._MyClass__private_attr)  # Accessing private attribute using name mangling\n"
   ]
  },
  {
   "cell_type": "markdown",
   "id": "ebc15310-462d-4840-bcd9-f5fbca4209f1",
   "metadata": {},
   "source": [
    "Polymorphism:\n",
    "\n",
    "1. What is polymorphism in Python? Explain how it is related to object-oriented programming.\n",
    "\n",
    "Answer:\n",
    "Polymorphism is a fundamental concept in object-oriented programming (OOP) that allows objects of different classes to be treated as objects of a common superclass. It enables a single interface to be used for objects of different types, providing flexibility and reusability in code. Polymorphism allows methods to behave differently based on the object they are invoked upon, enhancing code readability and maintainability."
   ]
  },
  {
   "cell_type": "markdown",
   "id": "293eec20-2840-4cde-b7ee-633e7161ace2",
   "metadata": {},
   "source": [
    "2. Describe the difference between compile-time polymorphism and runtime polymorphism in Python.\n",
    "\n",
    "Answer:\n",
    "\n",
    "Compile-time Polymorphism: Also known as static polymorphism, compile-time polymorphism refers to the method overloading that occurs during compile time. It involves having multiple methods with the same name but different parameters within the same class or across different classes. Python does not natively support compile-time polymorphism.\n",
    "Runtime Polymorphism: Also known as dynamic polymorphism, runtime polymorphism refers to the method overriding that occurs during runtime. It involves having a method in the superclass and its subclasses with the same name and signature. The appropriate method is determined at runtime based on the object's actual type."
   ]
  },
  {
   "cell_type": "markdown",
   "id": "80ed674e-b6ba-405f-b0f0-50fb377adbd5",
   "metadata": {},
   "source": [
    "3. Create a Python class hierarchy for shapes (e.g., circle, square, triangle) and demonstrate polymorphism through a common method, such as calculate_area().\n",
    "\n",
    "Answer:"
   ]
  },
  {
   "cell_type": "code",
   "execution_count": 25,
   "id": "1bb9870a-ec67-4cd1-b3ac-5f121ef018ad",
   "metadata": {},
   "outputs": [
    {
     "name": "stdout",
     "output_type": "stream",
     "text": [
      "Area: 78.5\n",
      "Area: 16\n",
      "Area: 9.0\n"
     ]
    }
   ],
   "source": [
    "class Shape:\n",
    "    def calculate_area(self):\n",
    "        pass\n",
    "\n",
    "class Circle(Shape):\n",
    "    def __init__(self, radius):\n",
    "        self.radius = radius\n",
    "\n",
    "    def calculate_area(self):\n",
    "        return 3.14 * self.radius ** 2\n",
    "\n",
    "class Square(Shape):\n",
    "    def __init__(self, side):\n",
    "        self.side = side\n",
    "\n",
    "    def calculate_area(self):\n",
    "        return self.side ** 2\n",
    "\n",
    "class Triangle(Shape):\n",
    "    def __init__(self, base, height):\n",
    "        self.base = base\n",
    "        self.height = height\n",
    "\n",
    "    def calculate_area(self):\n",
    "        return 0.5 * self.base * self.height\n",
    "\n",
    "# Demonstrate polymorphism\n",
    "shapes = [Circle(5), Square(4), Triangle(3, 6)]\n",
    "for shape in shapes:\n",
    "    print(\"Area:\", shape.calculate_area())\n"
   ]
  },
  {
   "cell_type": "markdown",
   "id": "6651808e-86f2-438d-a176-464a37e07477",
   "metadata": {},
   "source": [
    "4. Explain the concept of method overriding in polymorphism. Provide an example.\n",
    "\n",
    "Answer:\n",
    "Method overriding is a concept in polymorphism where a subclass provides a specific implementation of a method that is already defined in its superclass. It allows a subclass to provide its own implementation of a method, thus modifying or extending the behavior of the superclass method.\n",
    "\n",
    "Example:"
   ]
  },
  {
   "cell_type": "code",
   "execution_count": 26,
   "id": "b60be62a-793b-4772-9de4-caa03b6f94b6",
   "metadata": {},
   "outputs": [
    {
     "name": "stdout",
     "output_type": "stream",
     "text": [
      "Dog barks\n"
     ]
    }
   ],
   "source": [
    "class Animal:\n",
    "    def speak(self):\n",
    "        print(\"Animal speaks\")\n",
    "\n",
    "class Dog(Animal):\n",
    "    def speak(self):\n",
    "        print(\"Dog barks\")\n",
    "\n",
    "# Method overriding\n",
    "dog = Dog()\n",
    "dog.speak()  # Output: Dog barks\n"
   ]
  },
  {
   "cell_type": "markdown",
   "id": "78bf02e6-2805-4918-8e20-4e4c5edb598d",
   "metadata": {},
   "source": [
    "How is polymorphism different from method overloading in Python? Provide examples for both.\n",
    "\n",
    "Answer:\n",
    "\n",
    "Polymorphism: Polymorphism refers to the ability of different objects to respond to the same message or method invocation in different ways. It allows methods to behave differently based on the object they are invoked upon.\n",
    "Method Overloading: Method overloading refers to the ability to define multiple methods with the same name but different parameters within the same class or across different classes. In Python, method overloading is achieved by using default parameter values or variable-length argument lists.\n",
    "Examples:"
   ]
  },
  {
   "cell_type": "code",
   "execution_count": 28,
   "id": "cfb935b7-53da-45d8-9d7a-0ffdb2a2bc93",
   "metadata": {},
   "outputs": [
    {
     "name": "stdout",
     "output_type": "stream",
     "text": [
      "Dog barks\n",
      "9\n"
     ]
    }
   ],
   "source": [
    "# Polymorphism example\n",
    "class Animal:\n",
    "    def speak(self):\n",
    "        pass\n",
    "\n",
    "class Dog(Animal):\n",
    "    def speak(self):\n",
    "        print(\"Dog barks\")\n",
    "\n",
    "dog = Dog()\n",
    "dog.speak()  # Output: Dog barks\n",
    "\n",
    "# Method overloading example\n",
    "class Calculator:\n",
    "    def add(self, a, b):\n",
    "        return a + b\n",
    "\n",
    "    def add(self, a, b, c):\n",
    "        return a + b + c\n",
    "\n",
    "calc = Calculator()\n",
    "# print(calc.add(2, 3))     # Error: TypeError: add() missing 1 required positional argument: 'c'\n",
    "print(calc.add(2, 3, 4))  # Output: 9\n"
   ]
  },
  {
   "cell_type": "markdown",
   "id": "bebb22b2-70a0-4c28-89be-0ffa0191bcef",
   "metadata": {},
   "source": [
    "6. Create a Python class called Animal with a method speak(). Then, create child classes like Dog, Cat, and Bird, each with their own speak() method. Demonstrate polymorphism by calling the speak() method on objects of different subclasses.\n",
    "\n",
    "Answer:"
   ]
  },
  {
   "cell_type": "code",
   "execution_count": 29,
   "id": "59e11ee3-b668-4ec7-9576-df7bad415088",
   "metadata": {},
   "outputs": [
    {
     "name": "stdout",
     "output_type": "stream",
     "text": [
      "Dog barks\n",
      "Cat meows\n",
      "Bird chirps\n"
     ]
    }
   ],
   "source": [
    "class Animal:\n",
    "    def speak(self):\n",
    "        pass\n",
    "\n",
    "class Dog(Animal):\n",
    "    def speak(self):\n",
    "        print(\"Dog barks\")\n",
    "\n",
    "class Cat(Animal):\n",
    "    def speak(self):\n",
    "        print(\"Cat meows\")\n",
    "\n",
    "class Bird(Animal):\n",
    "    def speak(self):\n",
    "        print(\"Bird chirps\")\n",
    "\n",
    "# Demonstrate polymorphism\n",
    "animals = [Dog(), Cat(), Bird()]\n",
    "for animal in animals:\n",
    "    animal.speak()\n"
   ]
  },
  {
   "cell_type": "markdown",
   "id": "ba5b061d-de15-4fdd-a007-ef902ac72cf1",
   "metadata": {},
   "source": [
    "7. Discuss the use of abstract methods and classes in achieving polymorphism in Python. Provide an example using the abc module.\n",
    "\n",
    "Answer:\n",
    "Abstract methods and classes are used to enforce polymorphic behavior in Python by defining a common interface without providing any implementation details. This allows subclasses to provide their own implementations for the abstract methods, ensuring consistency across different subclasses.\n",
    "\n",
    "Example using the abc module:"
   ]
  },
  {
   "cell_type": "code",
   "execution_count": 30,
   "id": "9b494dce-9152-44c8-b016-0bfd4e1de681",
   "metadata": {},
   "outputs": [
    {
     "name": "stdout",
     "output_type": "stream",
     "text": [
      "Area: 78.5\n",
      "Area: 16\n"
     ]
    }
   ],
   "source": [
    "from abc import ABC, abstractmethod\n",
    "\n",
    "class Shape(ABC):\n",
    "    @abstractmethod\n",
    "    def calculate_area(self):\n",
    "        pass\n",
    "\n",
    "class Circle(Shape):\n",
    "    def __init__(self, radius):\n",
    "        self.radius = radius\n",
    "\n",
    "    def calculate_area(self):\n",
    "        return 3.14 * self.radius ** 2\n",
    "\n",
    "class Square(Shape):\n",
    "    def __init__(self, side):\n",
    "        self.side = side\n",
    "\n",
    "    def calculate_area(self):\n",
    "        return self.side ** 2\n",
    "\n",
    "# Creating objects and demonstrating polymorphism\n",
    "shapes = [Circle(5), Square(4)]\n",
    "for shape in shapes:\n",
    "    print(\"Area:\", shape.calculate_area())\n"
   ]
  },
  {
   "cell_type": "markdown",
   "id": "e8c86fec-4b4b-4311-a3ae-34139ddb10bc",
   "metadata": {},
   "source": [
    "8. Create a Python class hierarchy for a vehicle system (e.g., car, bicycle, boat) and implement a polymorphic start() method that prints a message specific to each vehicle type.\n",
    "\n",
    "Answer:"
   ]
  },
  {
   "cell_type": "code",
   "execution_count": 31,
   "id": "130f37ab-e2cb-49e1-ac6b-36ecbfe920e9",
   "metadata": {},
   "outputs": [
    {
     "name": "stdout",
     "output_type": "stream",
     "text": [
      "Car started\n",
      "Bicycle started\n",
      "Boat started\n"
     ]
    }
   ],
   "source": [
    "class Vehicle:\n",
    "    def start(self):\n",
    "        pass\n",
    "\n",
    "class Car(Vehicle):\n",
    "    def start(self):\n",
    "        print(\"Car started\")\n",
    "\n",
    "class Bicycle(Vehicle):\n",
    "    def start(self):\n",
    "        print(\"Bicycle started\")\n",
    "\n",
    "class Boat(Vehicle):\n",
    "    def start(self):\n",
    "        print(\"Boat started\")\n",
    "\n",
    "# Demonstrating polymorphism\n",
    "vehicles = [Car(), Bicycle(), Boat()]\n",
    "for vehicle in vehicles:\n",
    "    vehicle.start()\n"
   ]
  },
  {
   "cell_type": "markdown",
   "id": "07f9065a-f29e-4e59-9f57-29a14fc89851",
   "metadata": {},
   "source": [
    "Abstraction:\n",
    "\n",
    "1. What is abstraction in Python, and how does it relate to object-oriented programming?\n",
    "\n",
    "Answer:\n",
    "Abstraction in Python is the process of hiding the implementation details and showing only the necessary features of an object to the outside world. It allows developers to focus on what an object does rather than how it does it. In object-oriented programming (OOP), abstraction is achieved through the use of classes, where objects encapsulate data and behavior, providing a simplified interface for interacting with them."
   ]
  },
  {
   "cell_type": "markdown",
   "id": "50d727f0-b081-4d73-9fc7-cdcd64e1991d",
   "metadata": {},
   "source": [
    "2. Describe the benefits of abstraction in terms of code organization and complexity reduction.\n",
    "\n",
    "Answer:\n",
    "\n",
    "Code Organization: Abstraction helps in organizing code by hiding the complex implementation details and exposing only the essential functionalities. This makes the codebase more modular and easier to understand.\n",
    "Complexity Reduction: Abstraction simplifies the interaction with objects by providing a clear and concise interface. It hides unnecessary details, reducing complexity and making the code more manageable and maintainable."
   ]
  },
  {
   "cell_type": "markdown",
   "id": "323f7fa0-6094-47b9-9bad-c194690773ac",
   "metadata": {},
   "source": [
    "3. Create a Python class called Shape with an abstract method calculate_area(). Then, create child classes (e.g., Circle, Rectangle) that implement the calculate_area() method. Provide an example of using these classes.\n",
    "\n",
    "Answer:"
   ]
  },
  {
   "cell_type": "code",
   "execution_count": 32,
   "id": "bae4f4c2-fd2c-4624-a183-957518e846f3",
   "metadata": {},
   "outputs": [
    {
     "name": "stdout",
     "output_type": "stream",
     "text": [
      "Circle Area: 78.5\n",
      "Rectangle Area: 24\n"
     ]
    }
   ],
   "source": [
    "from abc import ABC, abstractmethod\n",
    "\n",
    "class Shape(ABC):\n",
    "    @abstractmethod\n",
    "    def calculate_area(self):\n",
    "        pass\n",
    "\n",
    "class Circle(Shape):\n",
    "    def __init__(self, radius):\n",
    "        self.radius = radius\n",
    "\n",
    "    def calculate_area(self):\n",
    "        return 3.14 * self.radius ** 2\n",
    "\n",
    "class Rectangle(Shape):\n",
    "    def __init__(self, length, width):\n",
    "        self.length = length\n",
    "        self.width = width\n",
    "\n",
    "    def calculate_area(self):\n",
    "        return self.length * self.width\n",
    "\n",
    "# Example usage\n",
    "circle = Circle(5)\n",
    "print(\"Circle Area:\", circle.calculate_area())  # Output: Circle Area: 78.5\n",
    "\n",
    "rectangle = Rectangle(4, 6)\n",
    "print(\"Rectangle Area:\", rectangle.calculate_area())  # Output: Rectangle Area: 24\n"
   ]
  },
  {
   "cell_type": "markdown",
   "id": "55c92533-8abb-4bc9-85f5-67de2f53d188",
   "metadata": {},
   "source": [
    "4. Explain the concept of abstract classes in Python and how they are defined using the abc module. Provide an example.\n",
    "\n",
    "Answer:\n",
    "Abstract classes in Python are classes that cannot be instantiated directly and may contain one or more abstract methods. They serve as templates for concrete subclasses, defining a common interface that must be implemented by the subclasses. Abstract classes are defined using the abc (Abstract Base Classes) module.\n",
    "\n",
    "Example:"
   ]
  },
  {
   "cell_type": "code",
   "execution_count": 34,
   "id": "613fb5e1-9ad7-4f34-8ee4-7bff9350c5d3",
   "metadata": {},
   "outputs": [],
   "source": [
    "from abc import ABC, abstractmethod\n",
    "\n",
    "class Vehicle(ABC):\n",
    "    @abstractmethod\n",
    "    def start(self):\n",
    "        pass\n",
    "\n",
    "    @abstractmethod\n",
    "    def stop(self):\n",
    "        pass\n",
    "\n",
    "# Attempting to instantiate an abstract class will raise an error\n",
    "# vehicle = Vehicle()  # TypeError: Can't instantiate abstract class Vehicle with abstract methods start, stop\n"
   ]
  },
  {
   "cell_type": "markdown",
   "id": "6b88515e-666b-435b-8811-3a6e2508d0be",
   "metadata": {},
   "source": [
    "5. How do abstract classes differ from regular classes in Python? Discuss their use cases.\n",
    "\n",
    "Answer:\n",
    "\n",
    "Abstract Classes: Abstract classes cannot be instantiated directly, and they may contain one or more abstract methods that must be implemented by concrete subclasses. They provide a blueprint for creating subclasses with a common interface.\n",
    "Regular Classes: Regular classes can be instantiated directly, and they may or may not contain abstract methods. They represent concrete objects with defined attributes and behaviors.\n",
    "Use Cases:\n",
    "\n",
    "Abstract classes are useful when defining a common interface that multiple subclasses must adhere to, ensuring consistency across implementations.\n",
    "Regular classes are used to create concrete objects with specific attributes and behaviors, providing functionality that can be directly instantiated and used."
   ]
  },
  {
   "cell_type": "markdown",
   "id": "db5b0b0e-a956-43af-923b-c7d9ef5285f9",
   "metadata": {},
   "source": [
    "6. Create a Python class for a bank account and demonstrate abstraction by hiding the account balance and providing methods to deposit and withdraw funds.\n",
    "\n",
    "Answer:"
   ]
  },
  {
   "cell_type": "code",
   "execution_count": 36,
   "id": "ef551d08-0a27-4c65-9b9f-a5a5a1258d3d",
   "metadata": {},
   "outputs": [
    {
     "name": "stdout",
     "output_type": "stream",
     "text": [
      "Initial Balance: 1000\n",
      "Balance after deposit: 1500\n",
      "Withdrawal successful\n",
      "Balance after withdrawal: 800\n"
     ]
    }
   ],
   "source": [
    "class BankAccount:\n",
    "    def __init__(self, account_number, initial_balance):\n",
    "        self.account_number = account_number\n",
    "        self.__balance = initial_balance  # Private attribute\n",
    "\n",
    "    def deposit(self, amount):\n",
    "        self.__balance += amount\n",
    "\n",
    "    def withdraw(self, amount):\n",
    "        if self.__balance >= amount:\n",
    "            self.__balance -= amount\n",
    "            print(\"Withdrawal successful\")\n",
    "        else:\n",
    "            print(\"Insufficient funds\")\n",
    "\n",
    "    def get_balance(self):\n",
    "        return self.__balance\n",
    "\n",
    "# Example usage\n",
    "account = BankAccount(\"123456789\", 1000)\n",
    "print(\"Initial Balance:\", account.get_balance())  # Output: Initial Balance: 1000\n",
    "account.deposit(500)\n",
    "print(\"Balance after deposit:\", account.get_balance())  # Output: Balance after deposit: 1500\n",
    "account.withdraw(700)\n",
    "print(\"Balance after withdrawal:\", account.get_balance())  # Output: Balance after withdrawal: 800\n"
   ]
  },
  {
   "cell_type": "markdown",
   "id": "eb7e41f8-f093-4498-b31e-9152f373465c",
   "metadata": {},
   "source": [
    "7. Discuss the concept of interface classes in Python and their role in achieving abstraction.\n",
    "\n",
    "Answer:\n",
    "Interface classes in Python are classes that define a set of method signatures without providing any implementation details. They serve as contracts that specify the behavior expected from classes that implement them. Interface classes help achieve abstraction by allowing multiple classes to share a common interface, promoting code interoperability and polymorphic behavior."
   ]
  },
  {
   "cell_type": "markdown",
   "id": "4b6d0851-8525-4727-a7bc-7341374ee07e",
   "metadata": {},
   "source": [
    "8. Create a Python class hierarchy for animals and implement abstraction by defining common methods (e.g., eat(), sleep()) in an abstract base class.\n",
    "\n",
    "Answer:"
   ]
  },
  {
   "cell_type": "code",
   "execution_count": 37,
   "id": "604bf9cd-fb00-4cf0-aeb3-a04aa608a227",
   "metadata": {},
   "outputs": [
    {
     "name": "stdout",
     "output_type": "stream",
     "text": [
      "Dog is eating\n",
      "Dog is sleeping\n",
      "Cat is eating\n",
      "Cat is sleeping\n"
     ]
    }
   ],
   "source": [
    "from abc import ABC, abstractmethod\n",
    "\n",
    "class Animal(ABC):\n",
    "    @abstractmethod\n",
    "    def eat(self):\n",
    "        pass\n",
    "\n",
    "    @abstractmethod\n",
    "    def sleep(self):\n",
    "        pass\n",
    "\n",
    "class Dog(Animal):\n",
    "    def eat(self):\n",
    "        print(\"Dog is eating\")\n",
    "\n",
    "    def sleep(self):\n",
    "        print(\"Dog is sleeping\")\n",
    "\n",
    "class Cat(Animal):\n",
    "    def eat(self):\n",
    "        print(\"Cat is eating\")\n",
    "\n",
    "    def sleep(self):\n",
    "        print(\"Cat is sleeping\")\n",
    "\n",
    "# Example usage\n",
    "dog = Dog()\n",
    "dog.eat()   # Output: Dog is eating\n",
    "dog.sleep() # Output: Dog is sleeping\n",
    "\n",
    "cat = Cat()\n",
    "cat.eat()   # Output: Cat is eating\n",
    "cat.sleep() # Output: Cat is sleeping\n"
   ]
  },
  {
   "cell_type": "markdown",
   "id": "5b9d7620-ddf4-4847-a569-bdc2be275f6b",
   "metadata": {},
   "source": [
    "9. Explain the significance of encapsulation in achieving abstraction. Provide examples.\n",
    "\n",
    "Answer:\n",
    "Encapsulation is the bundling of data and methods that operate on the data into a single unit, known as a class. It helps in achieving abstraction by hiding the internal state of an object and exposing only the necessary functionalities through methods. Encapsulation ensures data integrity and reduces dependencies between different parts of the code.\n",
    "\n",
    "Example:"
   ]
  },
  {
   "cell_type": "code",
   "execution_count": 39,
   "id": "d3fd132e-19d6-480d-a2af-84821cb3884b",
   "metadata": {},
   "outputs": [
    {
     "name": "stdout",
     "output_type": "stream",
     "text": [
      "Car Make: Toyota\n"
     ]
    }
   ],
   "source": [
    "class Car:\n",
    "    def __init__(self, make, model):\n",
    "        self.__make = make  # Encapsulated attribute\n",
    "        self.__model = model\n",
    "\n",
    "    def get_make(self):\n",
    "        return self.__make\n",
    "\n",
    "    def set_make(self, make):\n",
    "        self.__make = make\n",
    "\n",
    "    def get_model(self):\n",
    "        return self.__model\n",
    "\n",
    "    def set_model(self, model):\n",
    "        self.__model = model\n",
    "\n",
    "# Example usage\n",
    "car = Car(\"Toyota\", \"Camry\")\n",
    "print(\"Car Make:\", car.get_make())  # Output: Car Make: Toyota\n",
    "\n"
   ]
  },
  {
   "cell_type": "markdown",
   "id": "84c01b68-84ed-44df-90ce-9c61a4940bda",
   "metadata": {},
   "source": [
    "Composition:\n",
    "\n",
    "1. Explain the concept of composition in Python and how it is used to build complex objects from simpler ones.\n",
    "\n",
    "Answer:\n",
    "Composition in Python is a design principle where complex objects are created by combining simpler objects or components. It involves creating a class that contains one or more instances of other classes, allowing the complex object to use functionalities provided by its component objects. Composition promotes code reusability, modularity, and flexibility by enabling the creation of objects with varying functionalities by combining different components."
   ]
  },
  {
   "cell_type": "markdown",
   "id": "abe6b746-3f75-4b17-a8a5-fa9395f4fcce",
   "metadata": {},
   "source": [
    "2. Describe the difference between composition and inheritance in object-oriented programming.\n",
    "\n",
    "Answer:\n",
    "\n",
    "Composition: Composition involves creating complex objects by combining simpler objects or components. The composed object contains instances of other classes, and it delegates certain tasks to these component objects.\n",
    "Inheritance: Inheritance involves creating new classes based on existing classes, where the new class (subclass) inherits attributes and behaviors from the existing class (superclass). Subclasses can extend or override the functionality of the superclass.\n",
    "In summary, composition is about building objects by combining simpler objects, while inheritance is about creating new classes based on existing classes."
   ]
  },
  {
   "cell_type": "markdown",
   "id": "8f34be30-de13-435f-b0b4-0e026afbccec",
   "metadata": {},
   "source": [
    "3. Create a Python class called Author with attributes for name and birthdate. Then, create a Book class that contains an instance of Author as a composition. Provide an example of creating a Book object.\n",
    "\n",
    "Answer:"
   ]
  },
  {
   "cell_type": "code",
   "execution_count": 40,
   "id": "9694e045-b84a-4bf8-beac-e4b419e7d7f1",
   "metadata": {},
   "outputs": [
    {
     "name": "stdout",
     "output_type": "stream",
     "text": [
      "Book Title: Python Programming\n",
      "Author Name: John Doe\n",
      "Author Birthdate: 2000-01-01\n"
     ]
    }
   ],
   "source": [
    "class Author:\n",
    "    def __init__(self, name, birthdate):\n",
    "        self.name = name\n",
    "        self.birthdate = birthdate\n",
    "\n",
    "class Book:\n",
    "    def __init__(self, title, author_name, author_birthdate):\n",
    "        self.title = title\n",
    "        self.author = Author(author_name, author_birthdate)\n",
    "\n",
    "# Example usage\n",
    "author = Author(\"John Doe\", \"2000-01-01\")\n",
    "book = Book(\"Python Programming\", author.name, author.birthdate)\n",
    "print(\"Book Title:\", book.title)\n",
    "print(\"Author Name:\", book.author.name)\n",
    "print(\"Author Birthdate:\", book.author.birthdate)\n"
   ]
  },
  {
   "cell_type": "markdown",
   "id": "56692310-32c0-4a05-9346-24e2545c4ca5",
   "metadata": {},
   "source": [
    "4. Discuss the benefits of using composition over inheritance in Python, especially in terms of code flexibility and reusability.\n",
    "\n",
    "Answer:\n",
    "\n",
    "Flexibility: Composition allows for greater flexibility in designing classes and building complex objects. It enables developers to create objects with varying functionalities by combining different components, rather than being constrained by the hierarchy imposed by inheritance.\n",
    "Reusability: Composition promotes code reusability by facilitating the reuse of existing classes or components in different contexts. It encourages modular design, where components can be reused independently or in combination with other components."
   ]
  },
  {
   "cell_type": "markdown",
   "id": "e346be3b-5530-46c4-a33f-ac5e203f57b7",
   "metadata": {},
   "source": [
    "5. How can you implement composition in Python classes? Provide examples of using composition to create complex objects.\n",
    "\n",
    "Answer:\n",
    "Composition in Python can be implemented by including instances of other classes as attributes within a class. Here's an example:"
   ]
  },
  {
   "cell_type": "code",
   "execution_count": 41,
   "id": "cc92af0e-9f54-442a-992d-869221d8671e",
   "metadata": {},
   "outputs": [
    {
     "name": "stdout",
     "output_type": "stream",
     "text": [
      "Engine started\n"
     ]
    }
   ],
   "source": [
    "class Engine:\n",
    "    def start(self):\n",
    "        print(\"Engine started\")\n",
    "\n",
    "class Car:\n",
    "    def __init__(self):\n",
    "        self.engine = Engine()\n",
    "\n",
    "    def start(self):\n",
    "        self.engine.start()\n",
    "\n",
    "# Example usage\n",
    "car = Car()\n",
    "car.start()  # Output: Engine started\n"
   ]
  },
  {
   "cell_type": "markdown",
   "id": "2770fa81-1035-40aa-b812-fb4c4db580eb",
   "metadata": {},
   "source": [
    "6. Create a Python class hierarchy for a music player system, using composition to represent playlists and songs.\n",
    "\n",
    "Answer:"
   ]
  },
  {
   "cell_type": "code",
   "execution_count": 42,
   "id": "328a98a3-b890-48ef-b363-618164637b0f",
   "metadata": {},
   "outputs": [
    {
     "name": "stdout",
     "output_type": "stream",
     "text": [
      "Title: Shape of You | Artist: Ed Sheeran\n",
      "Title: Blinding Lights | Artist: The Weeknd\n"
     ]
    }
   ],
   "source": [
    "class Song:\n",
    "    def __init__(self, title, artist):\n",
    "        self.title = title\n",
    "        self.artist = artist\n",
    "\n",
    "class Playlist:\n",
    "    def __init__(self, name):\n",
    "        self.name = name\n",
    "        self.songs = []\n",
    "\n",
    "    def add_song(self, song):\n",
    "        self.songs.append(song)\n",
    "\n",
    "# Example usage\n",
    "song1 = Song(\"Shape of You\", \"Ed Sheeran\")\n",
    "song2 = Song(\"Blinding Lights\", \"The Weeknd\")\n",
    "\n",
    "playlist = Playlist(\"My Playlist\")\n",
    "playlist.add_song(song1)\n",
    "playlist.add_song(song2)\n",
    "\n",
    "for song in playlist.songs:\n",
    "    print(\"Title:\", song.title, \"| Artist:\", song.artist)\n"
   ]
  },
  {
   "cell_type": "markdown",
   "id": "283c1501-d38a-4689-977c-45d10265204a",
   "metadata": {},
   "source": [
    "7. Explain the concept of \"has-a\" relationships in composition and how it helps design software systems.\n",
    "\n",
    "Answer:\n",
    "In composition, \"has-a\" relationships represent the relationship between a complex object (e.g., a class) and its components. For example, a car \"has-a\" engine, a playlist \"has-a\" list of songs, etc. These relationships allow the complex object to use functionalities provided by its components, leading to modular and flexible design of software systems."
   ]
  },
  {
   "cell_type": "markdown",
   "id": "53e19263-b489-4277-9cac-3fde733dea04",
   "metadata": {},
   "source": [
    "8. Create a Python class for a computer system, using composition to represent components like CPU, RAM, and storage devices.\n",
    "\n",
    "Answer:"
   ]
  },
  {
   "cell_type": "code",
   "execution_count": 43,
   "id": "5c8b853f-0211-44bf-af09-cca45c8380d0",
   "metadata": {},
   "outputs": [
    {
     "name": "stdout",
     "output_type": "stream",
     "text": [
      "CPU processing data\n",
      "RAM storing data\n",
      "Storage saving data\n"
     ]
    }
   ],
   "source": [
    "class CPU:\n",
    "    def process_data(self):\n",
    "        print(\"CPU processing data\")\n",
    "\n",
    "class RAM:\n",
    "    def store_data(self):\n",
    "        print(\"RAM storing data\")\n",
    "\n",
    "class Storage:\n",
    "    def save_data(self):\n",
    "        print(\"Storage saving data\")\n",
    "\n",
    "class Computer:\n",
    "    def __init__(self):\n",
    "        self.cpu = CPU()\n",
    "        self.ram = RAM()\n",
    "        self.storage = Storage()\n",
    "\n",
    "    def process_data(self):\n",
    "        self.cpu.process_data()\n",
    "        self.ram.store_data()\n",
    "        self.storage.save_data()\n",
    "\n",
    "# Example usage\n",
    "computer = Computer()\n",
    "computer.process_data()  # Output: CPU processing data, RAM storing data, Storage saving data\n"
   ]
  },
  {
   "cell_type": "markdown",
   "id": "54e6e7f3-a012-47e6-a8dd-1a3d3db21610",
   "metadata": {},
   "source": [
    "13. Discuss the challenges and drawbacks of composition, such as increased complexity and potential for tight coupling between objects.\n",
    "\n",
    "Answer:\n",
    "\n",
    "Increased Complexity: As the number of components increases, managing the interactions and dependencies between them can become complex, leading to code that is harder to understand and maintain.\n",
    "Potential for Tight Coupling: Composition can lead to tight coupling between objects, where changes to one component may require corresponding changes in other components. This can reduce the flexibility and reusability of the code."
   ]
  },
  {
   "cell_type": "markdown",
   "id": "7576088c-a1bb-4e83-a54b-7b2823510329",
   "metadata": {},
   "source": [
    "14. Create a Python class hierarchy for a restaurant system, using composition to represent menus, dishes, and ingredients.\n",
    "\n",
    "Answer:"
   ]
  },
  {
   "cell_type": "code",
   "execution_count": 44,
   "id": "d4bda6a7-17da-4bf0-b129-e110eb3af612",
   "metadata": {},
   "outputs": [],
   "source": [
    "class Ingredient:\n",
    "    def __init__(self, name):\n",
    "        self.name = name\n",
    "\n",
    "class Dish:\n",
    "    def __init__(self, name, ingredients):\n",
    "        self.name = name\n",
    "        self.ingredients = ingredients\n",
    "\n",
    "class Menu:\n",
    "    def __init__(self, name, dishes):\n",
    "        self.name = name\n",
    "        self.dishes = dishes\n",
    "\n",
    "# Example usage\n",
    "tomato = Ingredient(\"Tomato\")\n",
    "onion = Ingredient(\"Onion\")\n",
    "pasta = Dish(\"Pasta\", [tomato, onion])\n",
    "pizza = Dish(\"Pizza\", [tomato])\n",
    "\n",
    "italian_menu = Menu(\"Italian Menu\", [pasta, pizza])\n"
   ]
  },
  {
   "cell_type": "markdown",
   "id": "19e7bdbb-c0eb-4f53-952d-ca10d7572867",
   "metadata": {},
   "source": [
    "15. Explain how composition enhances code maintainability and modularity in Python programs.\n",
    "\n",
    "Answer:\n",
    "\n",
    "Code Maintainability: Composition promotes code maintainability by allowing for modular design, where changes to one component have minimal impact on other components. This makes it easier to understand, modify, and extend the codebase.\n",
    "Code Modularity: Composition encourages the creation of reusable components that can be independently developed, tested, and maintained. This modular approach simplifies code organization and promotes code reuse."
   ]
  },
  {
   "cell_type": "markdown",
   "id": "cf1a5779-3411-4553-a796-9a91b19dead7",
   "metadata": {},
   "source": [
    "16. Create a Python class for a computer game character, using composition to represent attributes like weapons, armor, and inventory.\n",
    "\n",
    "Answer:"
   ]
  },
  {
   "cell_type": "code",
   "execution_count": 46,
   "id": "3f2ecb08-c8eb-4f75-bd14-f8d00ab1d0a4",
   "metadata": {},
   "outputs": [],
   "source": [
    "class Weapon:\n",
    "    def __init__(self, name):\n",
    "        self.name = name\n",
    "\n",
    "class Armor:\n",
    "    def __init__(self, name):\n",
    "        self.name = name\n",
    "\n",
    "class Inventory:\n",
    "    def __init__(self):\n",
    "        self.items = []\n",
    "\n",
    "    def add_item(self, item):\n",
    "        self.items.append(item)\n",
    "\n",
    "class Character:\n",
    "    def __init__(self, name):\n",
    "        self.name = name\n",
    "        self.weapon = None\n",
    "        self.armor = None\n",
    "        self.inventory = Inventory()\n",
    "\n",
    "# Example usage\n",
    "sword = Weapon(\"Sword\")\n",
    "shield = Armor(\"Shield\")\n",
    "\n",
    "player = Character(\"Player\")\n",
    "player.weapon = sword\n",
    "player.armor = shield\n",
    "player.inventory.add_item(\"Potion\")\n"
   ]
  },
  {
   "cell_type": "markdown",
   "id": "1fba161c-b9e2-4600-87dd-ee8b1ea7504c",
   "metadata": {},
   "source": [
    "17. Describe the concept of \"aggregation\" in composition and how it differs from simple composition.\n",
    "\n",
    "Answer:\n",
    "\n",
    "Aggregation: Aggregation is a form of composition where the lifecycle of the composed objects is not tightly bound to the lifecycle of the containing object. It represents a \"has-a\" relationship where the composed objects can exist independently of the containing object.\n",
    "Simple Composition: In simple composition, the lifecycle of the composed objects is tightly bound to the containing object. If the containing object is destroyed, the composed objects are also destroyed."
   ]
  },
  {
   "cell_type": "markdown",
   "id": "e94a970b-e2b4-4625-9ee2-ddc7559b8778",
   "metadata": {},
   "source": [
    "18. Create a Python class for a house, using composition to represent rooms, furniture, and appliances.\n",
    "\n",
    "Answer:"
   ]
  },
  {
   "cell_type": "code",
   "execution_count": 47,
   "id": "2d78cd1d-2516-4358-b843-d1a61e7148a3",
   "metadata": {},
   "outputs": [],
   "source": [
    "class Furniture:\n",
    "    def __init__(self, name):\n",
    "        self.name = name\n",
    "\n",
    "class Appliance:\n",
    "    def __init__(self, name):\n",
    "        self.name = name\n",
    "\n",
    "class Room:\n",
    "    def __init__(self, name):\n",
    "        self.name = name\n",
    "        self.furniture = []\n",
    "        self.appliances = []\n",
    "\n",
    "    def add_furniture(self, furniture):\n",
    "        self.furniture.append(furniture)\n",
    "\n",
    "    def add_appliance(self, appliance):\n",
    "        self.appliances.append(appliance)\n",
    "\n",
    "class House:\n",
    "    def __init__(self):\n",
    "        self.rooms = []\n",
    "\n",
    "    def add_room(self, room):\n",
    "        self.rooms.append(room)\n",
    "\n",
    "# Example usage\n",
    "chair = Furniture(\"Chair\")\n",
    "fridge = Appliance(\"Fridge\")\n",
    "\n",
    "living_room = Room(\"Living Room\")\n",
    "living_room.add_furniture(chair)\n",
    "living_room.add_appliance(fridge)\n",
    "\n",
    "house = House()\n",
    "house.add_room(living_room)\n"
   ]
  },
  {
   "cell_type": "code",
   "execution_count": null,
   "id": "e54e8699-935b-42dc-a1e0-1df9c3ef77ba",
   "metadata": {},
   "outputs": [],
   "source": []
  }
 ],
 "metadata": {
  "kernelspec": {
   "display_name": "Python 3 (ipykernel)",
   "language": "python",
   "name": "python3"
  },
  "language_info": {
   "codemirror_mode": {
    "name": "ipython",
    "version": 3
   },
   "file_extension": ".py",
   "mimetype": "text/x-python",
   "name": "python",
   "nbconvert_exporter": "python",
   "pygments_lexer": "ipython3",
   "version": "3.10.8"
  }
 },
 "nbformat": 4,
 "nbformat_minor": 5
}
