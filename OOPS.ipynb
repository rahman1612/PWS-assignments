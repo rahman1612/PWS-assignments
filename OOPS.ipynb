{
 "cells": [
  {
   "cell_type": "markdown",
   "id": "3d9ae5a6-1fde-4a86-b61e-51e6c9331306",
   "metadata": {},
   "source": [
    "Problem 1: Bank Account"
   ]
  },
  {
   "cell_type": "code",
   "execution_count": 1,
   "id": "f9a9e011-99b5-4692-b49b-19fe71a612a3",
   "metadata": {},
   "outputs": [
    {
     "name": "stdout",
     "output_type": "stream",
     "text": [
      "Amount 1000 deposited. New balance is 1000\n",
      "Amount 500 withdrawn. New balance is 500\n"
     ]
    }
   ],
   "source": [
    "class BankAccount:\n",
    "    def __init__(self, account_number, account_holder_name, balance=0):\n",
    "        self.account_number = account_number\n",
    "        self.account_holder_name = account_holder_name\n",
    "        self.balance = balance\n",
    "\n",
    "    def deposit(self, amount):\n",
    "        self.balance += amount\n",
    "        print(f\"Amount {amount} deposited. New balance is {self.balance}\")\n",
    "\n",
    "    def withdraw(self, amount):\n",
    "        if amount <= self.balance:\n",
    "            self.balance -= amount\n",
    "            print(f\"Amount {amount} withdrawn. New balance is {self.balance}\")\n",
    "        else:\n",
    "            print(\"Insufficient balance\")\n",
    "\n",
    "# Example usage:\n",
    "account1 = BankAccount(\"123456\", \"John Doe\")\n",
    "account1.deposit(1000)\n",
    "account1.withdraw(500)\n"
   ]
  },
  {
   "cell_type": "markdown",
   "id": "a5ff3685-7669-41fd-b945-406afcf4ebfb",
   "metadata": {},
   "source": [
    "Problem 2: Employee Management"
   ]
  },
  {
   "cell_type": "code",
   "execution_count": 2,
   "id": "8754cdfc-4906-44b8-83d3-0a6ecec5213c",
   "metadata": {},
   "outputs": [
    {
     "name": "stdout",
     "output_type": "stream",
     "text": [
      "Yearly Bonus: 5000.0\n",
      "Employee ID: E123\n",
      "Name: Alice\n",
      "Salary: 50000\n"
     ]
    }
   ],
   "source": [
    "class Employee:\n",
    "    def __init__(self, employee_id, name, salary):\n",
    "        self.employee_id = employee_id\n",
    "        self.name = name\n",
    "        self.salary = salary\n",
    "\n",
    "    def calculate_bonus(self):\n",
    "        return self.salary * 0.1  # Assuming 10% bonus\n",
    "\n",
    "    def display_details(self):\n",
    "        print(f\"Employee ID: {self.employee_id}\")\n",
    "        print(f\"Name: {self.name}\")\n",
    "        print(f\"Salary: {self.salary}\")\n",
    "\n",
    "# Example usage:\n",
    "employee1 = Employee(\"E123\", \"Alice\", 50000)\n",
    "print(\"Yearly Bonus:\", employee1.calculate_bonus())\n",
    "employee1.display_details()\n"
   ]
  },
  {
   "cell_type": "markdown",
   "id": "a02e96b3-1362-41d1-8d13-51d1c7c7a1ae",
   "metadata": {},
   "source": [
    "Problem 3: Vehicle Rental"
   ]
  },
  {
   "cell_type": "code",
   "execution_count": 4,
   "id": "a92a269b-4106-4d07-b046-014c08aba9de",
   "metadata": {},
   "outputs": [
    {
     "name": "stdout",
     "output_type": "stream",
     "text": [
      "Available vehicles: ['Car', 'Motorcycle', 'Bicycle']\n",
      "Car rented successfully\n",
      "Available vehicles: ['Motorcycle', 'Bicycle']\n",
      "Car returned successfully\n",
      "Available vehicles: ['Motorcycle', 'Bicycle', 'Car']\n"
     ]
    }
   ],
   "source": [
    "class VehicleRental:\n",
    "    def __init__(self):\n",
    "        self.available_vehicles = [\"Car\", \"Motorcycle\", \"Bicycle\"]\n",
    "\n",
    "    def rent_vehicle(self, vehicle):\n",
    "        if vehicle in self.available_vehicles:\n",
    "            self.available_vehicles.remove(vehicle)\n",
    "            print(f\"{vehicle} rented successfully\")\n",
    "        else:\n",
    "            print(\"Sorry, vehicle not available for rent\")\n",
    "\n",
    "    def return_vehicle(self, vehicle):\n",
    "        self.available_vehicles.append(vehicle)\n",
    "        print(f\"{vehicle} returned successfully\")\n",
    "\n",
    "    def display_available_vehicles(self):\n",
    "        print(\"Available vehicles:\", self.available_vehicles)\n",
    "\n",
    "# Example usage:\n",
    "rental = VehicleRental()\n",
    "rental.display_available_vehicles()\n",
    "rental.rent_vehicle(\"Car\")\n",
    "rental.display_available_vehicles()\n",
    "rental.return_vehicle(\"Car\")\n",
    "rental.display_available_vehicles()\n"
   ]
  },
  {
   "cell_type": "markdown",
   "id": "caa68788-9056-415a-83b2-16667755fb08",
   "metadata": {},
   "source": [
    "Problem 4: Library Catalog"
   ]
  },
  {
   "cell_type": "code",
   "execution_count": 5,
   "id": "ed45e3ce-12cd-4189-b6e7-07348fa0c4ba",
   "metadata": {},
   "outputs": [
    {
     "name": "stdout",
     "output_type": "stream",
     "text": [
      "Python Programming added to library catalog\n",
      "Available books: ['Python Programming']\n",
      "Python Programming borrowed successfully\n",
      "Available books: []\n"
     ]
    }
   ],
   "source": [
    "class Library:\n",
    "    def __init__(self):\n",
    "        self.available_books = []\n",
    "\n",
    "    def add_book(self, book):\n",
    "        self.available_books.append(book)\n",
    "        print(f\"{book} added to library catalog\")\n",
    "\n",
    "    def borrow_book(self, book):\n",
    "        if book in self.available_books:\n",
    "            self.available_books.remove(book)\n",
    "            print(f\"{book} borrowed successfully\")\n",
    "        else:\n",
    "            print(\"Sorry, book not available\")\n",
    "\n",
    "    def display_available_books(self):\n",
    "        print(\"Available books:\", self.available_books)\n",
    "\n",
    "# Example usage:\n",
    "library = Library()\n",
    "library.add_book(\"Python Programming\")\n",
    "library.display_available_books()\n",
    "library.borrow_book(\"Python Programming\")\n",
    "library.display_available_books()\n"
   ]
  },
  {
   "cell_type": "markdown",
   "id": "2809d2f2-1f0c-4176-b4b9-53910c3c433e",
   "metadata": {},
   "source": [
    "Problem 5: Product Inventory"
   ]
  },
  {
   "cell_type": "code",
   "execution_count": 6,
   "id": "7f300474-e4ff-4552-9813-92a40d7278f8",
   "metadata": {},
   "outputs": [
    {
     "name": "stdout",
     "output_type": "stream",
     "text": [
      "Laptop added to inventory\n",
      "Laptop: 10\n",
      "Quantity of Laptop updated to 15\n",
      "Laptop: 15\n"
     ]
    }
   ],
   "source": [
    "class Product:\n",
    "    def __init__(self, name, quantity):\n",
    "        self.name = name\n",
    "        self.quantity = quantity\n",
    "\n",
    "class Inventory:\n",
    "    def __init__(self):\n",
    "        self.products = []\n",
    "\n",
    "    def add_product(self, product):\n",
    "        self.products.append(product)\n",
    "        print(f\"{product.name} added to inventory\")\n",
    "\n",
    "    def update_product_quantity(self, product_name, quantity):\n",
    "        for product in self.products:\n",
    "            if product.name == product_name:\n",
    "                product.quantity += quantity\n",
    "                print(f\"Quantity of {product.name} updated to {product.quantity}\")\n",
    "                break\n",
    "        else:\n",
    "            print(\"Product not found in inventory\")\n",
    "\n",
    "    def display_available_products(self):\n",
    "        for product in self.products:\n",
    "            print(f\"{product.name}: {product.quantity}\")\n",
    "\n",
    "# Example usage:\n",
    "inventory = Inventory()\n",
    "product1 = Product(\"Laptop\", 10)\n",
    "inventory.add_product(product1)\n",
    "inventory.display_available_products()\n",
    "inventory.update_product_quantity(\"Laptop\", 5)\n",
    "inventory.display_available_products()\n"
   ]
  },
  {
   "cell_type": "markdown",
   "id": "6a9f1a35-4b09-4330-9ab7-e550611a9681",
   "metadata": {},
   "source": [
    "Problem 6: Shape Calculation"
   ]
  },
  {
   "cell_type": "code",
   "execution_count": 8,
   "id": "d63568ca-9a34-4996-8e8c-76bb0eff86a2",
   "metadata": {},
   "outputs": [
    {
     "name": "stdout",
     "output_type": "stream",
     "text": [
      "Triangle Area: 9.0\n",
      "Triangle Perimeter: 13\n"
     ]
    }
   ],
   "source": [
    "class Triangle(Shape):\n",
    "    def __init__(self, base, side2, side3, height):\n",
    "        super().__init__(base, side2, side3)  # Using the length, width, and height attributes to represent sides\n",
    "        self.height = height\n",
    "\n",
    "    def calculate_area(self):\n",
    "        return 0.5 * self.length * self.height\n",
    "\n",
    "    def calculate_perimeter(self):\n",
    "        return self.length + self.width + self.height\n",
    "\n",
    "# Example usage:\n",
    "triangle = Triangle(3, 4, 5, 6)\n",
    "print(\"Triangle Area:\", triangle.calculate_area())\n",
    "print(\"Triangle Perimeter:\", triangle.calculate_perimeter())\n"
   ]
  },
  {
   "cell_type": "markdown",
   "id": "418f908c-fc7e-468a-8236-c316e1dd6d0a",
   "metadata": {},
   "source": [
    "Problem 7: Student Management"
   ]
  },
  {
   "cell_type": "code",
   "execution_count": 9,
   "id": "a1fc405f-d99e-41f8-9bf2-b17a397cb4c0",
   "metadata": {},
   "outputs": [
    {
     "name": "stdout",
     "output_type": "stream",
     "text": [
      "Average Grade: 81.66666666666667\n",
      "Student ID: S123\n",
      "Name: Alice\n",
      "Grades: [80, 75, 90]\n"
     ]
    }
   ],
   "source": [
    "class Student:\n",
    "    def __init__(self, student_id, name, grades):\n",
    "        self.student_id = student_id\n",
    "        self.name = name\n",
    "        self.grades = grades\n",
    "\n",
    "    def calculate_average_grade(self):\n",
    "        return sum(self.grades) / len(self.grades)\n",
    "\n",
    "    def display_details(self):\n",
    "        print(f\"Student ID: {self.student_id}\")\n",
    "        print(f\"Name: {self.name}\")\n",
    "        print(\"Grades:\", self.grades)\n",
    "\n",
    "# Example usage:\n",
    "student1 = Student(\"S123\", \"Alice\", [80, 75, 90])\n",
    "print(\"Average Grade:\", student1.calculate_average_grade())\n",
    "student1.display_details()\n"
   ]
  },
  {
   "cell_type": "markdown",
   "id": "8812aa00-be1e-4f5a-ab74-1797d9102fe6",
   "metadata": {},
   "source": [
    "Problem 8: Email Management"
   ]
  },
  {
   "cell_type": "code",
   "execution_count": 10,
   "id": "9afe7422-89be-438f-af9b-aacd3d75766c",
   "metadata": {},
   "outputs": [
    {
     "name": "stdout",
     "output_type": "stream",
     "text": [
      "Email sent from sender@example.com to recipient@example.com\n",
      "Sender: sender@example.com\n",
      "Recipient: recipient@example.com\n",
      "Subject: Test Email\n"
     ]
    }
   ],
   "source": [
    "class Email:\n",
    "    def __init__(self, sender, recipient, subject):\n",
    "        self.sender = sender\n",
    "        self.recipient = recipient\n",
    "        self.subject = subject\n",
    "\n",
    "    def send_email(self):\n",
    "        print(f\"Email sent from {self.sender} to {self.recipient}\")\n",
    "\n",
    "    def display_email_details(self):\n",
    "        print(f\"Sender: {self.sender}\")\n",
    "        print(f\"Recipient: {self.recipient}\")\n",
    "        print(f\"Subject: {self.subject}\")\n",
    "\n",
    "# Example usage:\n",
    "email1 = Email(\"sender@example.com\", \"recipient@example.com\", \"Test Email\")\n",
    "email1.send_email()\n",
    "email1.display_email_details()\n"
   ]
  },
  {
   "cell_type": "markdown",
   "id": "e0374eeb-22fd-481d-b054-50f1432d6d56",
   "metadata": {},
   "source": []
  },
  {
   "cell_type": "code",
   "execution_count": 11,
   "id": "7c1b6bae-ae8e-4262-90c9-992cc2a5ee57",
   "metadata": {},
   "outputs": [
    {
     "name": "stdout",
     "output_type": "stream",
     "text": [
      "Post added to user123's profile\n"
     ]
    },
    {
     "ename": "AttributeError",
     "evalue": "'SocialMediaProfile' object has no attribute 'add'",
     "output_type": "error",
     "traceback": [
      "\u001b[0;31m---------------------------------------------------------------------------\u001b[0m",
      "\u001b[0;31mAttributeError\u001b[0m                            Traceback (most recent call last)",
      "Cell \u001b[0;32mIn[11], line 24\u001b[0m\n\u001b[1;32m     22\u001b[0m profile \u001b[38;5;241m=\u001b[39m SocialMediaProfile(\u001b[38;5;124m\"\u001b[39m\u001b[38;5;124muser123\u001b[39m\u001b[38;5;124m\"\u001b[39m)\n\u001b[1;32m     23\u001b[0m profile\u001b[38;5;241m.\u001b[39madd_post(\u001b[38;5;124m\"\u001b[39m\u001b[38;5;124mHello world!\u001b[39m\u001b[38;5;124m\"\u001b[39m)\n\u001b[0;32m---> 24\u001b[0m \u001b[43mprofile\u001b[49m\u001b[38;5;241;43m.\u001b[39;49m\u001b[43madd\u001b[49m\n",
      "\u001b[0;31mAttributeError\u001b[0m: 'SocialMediaProfile' object has no attribute 'add'"
     ]
    }
   ],
   "source": [
    "class SocialMediaProfile:\n",
    "    def __init__(self, username):\n",
    "        self.username = username\n",
    "        self.posts = []\n",
    "\n",
    "    def add_post(self, post):\n",
    "        self.posts.append(post)\n",
    "        print(f\"Post added to {self.username}'s profile\")\n",
    "\n",
    "    def display_posts(self):\n",
    "        print(f\"{self.username}'s posts:\")\n",
    "        for post in self.posts:\n",
    "            print(post)\n",
    "\n",
    "    def search_posts(self, keyword):\n",
    "        print(f\"Search results for keyword '{keyword}':\")\n",
    "        for post in self.posts:\n",
    "            if keyword in post:\n",
    "                print(post)\n",
    "\n",
    "# Example usage:\n",
    "profile = SocialMediaProfile(\"user123\")\n",
    "profile.add_post(\"Hello world!\")\n",
    "profile.add\n"
   ]
  },
  {
   "cell_type": "code",
   "execution_count": null,
   "id": "9bed1fa9-cd8a-4162-8717-d5151ae5d382",
   "metadata": {},
   "outputs": [],
   "source": []
  }
 ],
 "metadata": {
  "kernelspec": {
   "display_name": "Python 3 (ipykernel)",
   "language": "python",
   "name": "python3"
  },
  "language_info": {
   "codemirror_mode": {
    "name": "ipython",
    "version": 3
   },
   "file_extension": ".py",
   "mimetype": "text/x-python",
   "name": "python",
   "nbconvert_exporter": "python",
   "pygments_lexer": "ipython3",
   "version": "3.10.8"
  }
 },
 "nbformat": 4,
 "nbformat_minor": 5
}
